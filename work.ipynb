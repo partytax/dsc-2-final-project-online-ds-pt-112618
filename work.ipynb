{
 "cells": [
  {
   "cell_type": "markdown",
   "metadata": {},
   "source": [
    "# Exploring the Northwind database"
   ]
  },
  {
   "cell_type": "code",
   "execution_count": 1,
   "metadata": {},
   "outputs": [],
   "source": [
    "import sqlite3"
   ]
  },
  {
   "cell_type": "code",
   "execution_count": 2,
   "metadata": {},
   "outputs": [],
   "source": [
    "#Instantiate connection and cursor\n",
    "con = sqlite3.connect('Northwind_small.sqlite')\n",
    "c = con.cursor()"
   ]
  },
  {
   "cell_type": "markdown",
   "metadata": {},
   "source": [
    "## Question 1: Do discounts have a statistically significant effect on the number of products customers order? If so, at what level(s) of discount?"
   ]
  },
  {
   "cell_type": "markdown",
   "metadata": {},
   "source": [
    "### Question 1.1: Do discounts have a statistically significant effect on the number of products customers order? "
   ]
  },
  {
   "cell_type": "markdown",
   "metadata": {},
   "source": [
    "First, we will list all of the tables in the database to see which ones are relevant to the question."
   ]
  },
  {
   "cell_type": "code",
   "execution_count": 3,
   "metadata": {},
   "outputs": [
    {
     "data": {
      "text/plain": [
       "[('Employee',),\n",
       " ('Category',),\n",
       " ('Customer',),\n",
       " ('Shipper',),\n",
       " ('Supplier',),\n",
       " ('Order',),\n",
       " ('Product',),\n",
       " ('OrderDetail',),\n",
       " ('CustomerCustomerDemo',),\n",
       " ('CustomerDemographic',),\n",
       " ('Region',),\n",
       " ('Territory',),\n",
       " ('EmployeeTerritory',)]"
      ]
     },
     "execution_count": 3,
     "metadata": {},
     "output_type": "execute_result"
    }
   ],
   "source": [
    "c.execute('''SELECT name FROM sqlite_master WHERE type='table';''').fetchall()"
   ]
  },
  {
   "cell_type": "markdown",
   "metadata": {},
   "source": [
    "It seems only one is necessary to extract product quantity and discount data:\n",
    "* Order Details"
   ]
  },
  {
   "cell_type": "markdown",
   "metadata": {},
   "source": [
    "Before we dig into the data, we should define our null and alternative hypothesis.\n",
    "\n",
    "**H<sub>0</sub>:** μ<sub>non</sub> = μ<sub>dis</sub>\n",
    "\n",
    "**H<sub>1</sub>:** μ<sub>non</sub> ≠ μ<sub>dis</sub>\n",
    "\n",
    "**$\\alpha$:** 0.05\n",
    "\n",
    "**μ<sub>non</sub>:** mean # of products in non-discounted order\n",
    "\n",
    "**μ<sub>dis</sub>:** mean # of products in discounted order\n",
    "\n",
    "**n<sub>non</sub>**: 450\n",
    "\n",
    "**n<sub>dis</sub>**: 380\n"
   ]
  },
  {
   "cell_type": "code",
   "execution_count": 4,
   "metadata": {},
   "outputs": [],
   "source": [
    "#We will load the 'Order' table to get some example data\n",
    "import pandas as pd\n",
    "q1 = pd.DataFrame(c.execute('''SELECT * FROM [Order]''').fetchall())\n",
    "\n",
    "#Copy column names from SQL database to Pandas DataFrame\n",
    "q1.columns = [d[0] for d in c.description]"
   ]
  },
  {
   "cell_type": "code",
   "execution_count": 5,
   "metadata": {},
   "outputs": [
    {
     "data": {
      "text/html": [
       "<div>\n",
       "<style scoped>\n",
       "    .dataframe tbody tr th:only-of-type {\n",
       "        vertical-align: middle;\n",
       "    }\n",
       "\n",
       "    .dataframe tbody tr th {\n",
       "        vertical-align: top;\n",
       "    }\n",
       "\n",
       "    .dataframe thead th {\n",
       "        text-align: right;\n",
       "    }\n",
       "</style>\n",
       "<table border=\"1\" class=\"dataframe\">\n",
       "  <thead>\n",
       "    <tr style=\"text-align: right;\">\n",
       "      <th></th>\n",
       "      <th>Id</th>\n",
       "      <th>CustomerId</th>\n",
       "      <th>EmployeeId</th>\n",
       "      <th>OrderDate</th>\n",
       "      <th>RequiredDate</th>\n",
       "      <th>ShippedDate</th>\n",
       "      <th>ShipVia</th>\n",
       "      <th>Freight</th>\n",
       "      <th>ShipName</th>\n",
       "      <th>ShipAddress</th>\n",
       "      <th>ShipCity</th>\n",
       "      <th>ShipRegion</th>\n",
       "      <th>ShipPostalCode</th>\n",
       "      <th>ShipCountry</th>\n",
       "    </tr>\n",
       "  </thead>\n",
       "  <tbody>\n",
       "    <tr>\n",
       "      <th>0</th>\n",
       "      <td>10248</td>\n",
       "      <td>VINET</td>\n",
       "      <td>5</td>\n",
       "      <td>2012-07-04</td>\n",
       "      <td>2012-08-01</td>\n",
       "      <td>2012-07-16</td>\n",
       "      <td>3</td>\n",
       "      <td>32.38</td>\n",
       "      <td>Vins et alcools Chevalier</td>\n",
       "      <td>59 rue de l'Abbaye</td>\n",
       "      <td>Reims</td>\n",
       "      <td>Western Europe</td>\n",
       "      <td>51100</td>\n",
       "      <td>France</td>\n",
       "    </tr>\n",
       "    <tr>\n",
       "      <th>1</th>\n",
       "      <td>10249</td>\n",
       "      <td>TOMSP</td>\n",
       "      <td>6</td>\n",
       "      <td>2012-07-05</td>\n",
       "      <td>2012-08-16</td>\n",
       "      <td>2012-07-10</td>\n",
       "      <td>1</td>\n",
       "      <td>11.61</td>\n",
       "      <td>Toms Spezialitäten</td>\n",
       "      <td>Luisenstr. 48</td>\n",
       "      <td>Münster</td>\n",
       "      <td>Western Europe</td>\n",
       "      <td>44087</td>\n",
       "      <td>Germany</td>\n",
       "    </tr>\n",
       "    <tr>\n",
       "      <th>2</th>\n",
       "      <td>10250</td>\n",
       "      <td>HANAR</td>\n",
       "      <td>4</td>\n",
       "      <td>2012-07-08</td>\n",
       "      <td>2012-08-05</td>\n",
       "      <td>2012-07-12</td>\n",
       "      <td>2</td>\n",
       "      <td>65.83</td>\n",
       "      <td>Hanari Carnes</td>\n",
       "      <td>Rua do Paço, 67</td>\n",
       "      <td>Rio de Janeiro</td>\n",
       "      <td>South America</td>\n",
       "      <td>05454-876</td>\n",
       "      <td>Brazil</td>\n",
       "    </tr>\n",
       "    <tr>\n",
       "      <th>3</th>\n",
       "      <td>10251</td>\n",
       "      <td>VICTE</td>\n",
       "      <td>3</td>\n",
       "      <td>2012-07-08</td>\n",
       "      <td>2012-08-05</td>\n",
       "      <td>2012-07-15</td>\n",
       "      <td>1</td>\n",
       "      <td>41.34</td>\n",
       "      <td>Victuailles en stock</td>\n",
       "      <td>2, rue du Commerce</td>\n",
       "      <td>Lyon</td>\n",
       "      <td>Western Europe</td>\n",
       "      <td>69004</td>\n",
       "      <td>France</td>\n",
       "    </tr>\n",
       "    <tr>\n",
       "      <th>4</th>\n",
       "      <td>10252</td>\n",
       "      <td>SUPRD</td>\n",
       "      <td>4</td>\n",
       "      <td>2012-07-09</td>\n",
       "      <td>2012-08-06</td>\n",
       "      <td>2012-07-11</td>\n",
       "      <td>2</td>\n",
       "      <td>51.30</td>\n",
       "      <td>Suprêmes délices</td>\n",
       "      <td>Boulevard Tirou, 255</td>\n",
       "      <td>Charleroi</td>\n",
       "      <td>Western Europe</td>\n",
       "      <td>B-6000</td>\n",
       "      <td>Belgium</td>\n",
       "    </tr>\n",
       "  </tbody>\n",
       "</table>\n",
       "</div>"
      ],
      "text/plain": [
       "      Id CustomerId  EmployeeId   OrderDate RequiredDate ShippedDate  ShipVia  \\\n",
       "0  10248      VINET           5  2012-07-04   2012-08-01  2012-07-16        3   \n",
       "1  10249      TOMSP           6  2012-07-05   2012-08-16  2012-07-10        1   \n",
       "2  10250      HANAR           4  2012-07-08   2012-08-05  2012-07-12        2   \n",
       "3  10251      VICTE           3  2012-07-08   2012-08-05  2012-07-15        1   \n",
       "4  10252      SUPRD           4  2012-07-09   2012-08-06  2012-07-11        2   \n",
       "\n",
       "   Freight                   ShipName           ShipAddress        ShipCity  \\\n",
       "0    32.38  Vins et alcools Chevalier    59 rue de l'Abbaye           Reims   \n",
       "1    11.61         Toms Spezialitäten         Luisenstr. 48         Münster   \n",
       "2    65.83              Hanari Carnes       Rua do Paço, 67  Rio de Janeiro   \n",
       "3    41.34       Victuailles en stock    2, rue du Commerce            Lyon   \n",
       "4    51.30           Suprêmes délices  Boulevard Tirou, 255       Charleroi   \n",
       "\n",
       "       ShipRegion ShipPostalCode ShipCountry  \n",
       "0  Western Europe          51100      France  \n",
       "1  Western Europe          44087     Germany  \n",
       "2   South America      05454-876      Brazil  \n",
       "3  Western Europe          69004      France  \n",
       "4  Western Europe         B-6000     Belgium  "
      ]
     },
     "execution_count": 5,
     "metadata": {},
     "output_type": "execute_result"
    }
   ],
   "source": [
    "q1.head()"
   ]
  },
  {
   "cell_type": "markdown",
   "metadata": {},
   "source": [
    "The orders table is now in a usable condition, but we will need to join it with 'Order Details' to get the discount information. We will take a look at that table now."
   ]
  },
  {
   "cell_type": "code",
   "execution_count": 6,
   "metadata": {},
   "outputs": [],
   "source": [
    "#To make fetching and displaying arbitrary tables from our database easier, \n",
    "#we will define a function\n",
    "def table_fetcher(table_name, limit=0):\n",
    "    query = f'''SELECT * FROM {table_name}'''\n",
    "    df = pd.DataFrame(c.execute(query).fetchall())\n",
    "    df.columns = [d[0] for d in c.description]\n",
    "    #return entire dataframe if zero is entered as the limit\n",
    "    if limit == 0:\n",
    "        return df\n",
    "    #otherwise, return the number of lines specified\n",
    "    else:\n",
    "        return df.head(limit)"
   ]
  },
  {
   "cell_type": "code",
   "execution_count": 7,
   "metadata": {},
   "outputs": [
    {
     "data": {
      "text/html": [
       "<div>\n",
       "<style scoped>\n",
       "    .dataframe tbody tr th:only-of-type {\n",
       "        vertical-align: middle;\n",
       "    }\n",
       "\n",
       "    .dataframe tbody tr th {\n",
       "        vertical-align: top;\n",
       "    }\n",
       "\n",
       "    .dataframe thead th {\n",
       "        text-align: right;\n",
       "    }\n",
       "</style>\n",
       "<table border=\"1\" class=\"dataframe\">\n",
       "  <thead>\n",
       "    <tr style=\"text-align: right;\">\n",
       "      <th></th>\n",
       "      <th>Id</th>\n",
       "      <th>OrderId</th>\n",
       "      <th>ProductId</th>\n",
       "      <th>UnitPrice</th>\n",
       "      <th>Quantity</th>\n",
       "      <th>Discount</th>\n",
       "    </tr>\n",
       "  </thead>\n",
       "  <tbody>\n",
       "    <tr>\n",
       "      <th>0</th>\n",
       "      <td>10248/11</td>\n",
       "      <td>10248</td>\n",
       "      <td>11</td>\n",
       "      <td>14.0</td>\n",
       "      <td>12</td>\n",
       "      <td>0.00</td>\n",
       "    </tr>\n",
       "    <tr>\n",
       "      <th>1</th>\n",
       "      <td>10248/42</td>\n",
       "      <td>10248</td>\n",
       "      <td>42</td>\n",
       "      <td>9.8</td>\n",
       "      <td>10</td>\n",
       "      <td>0.00</td>\n",
       "    </tr>\n",
       "    <tr>\n",
       "      <th>2</th>\n",
       "      <td>10248/72</td>\n",
       "      <td>10248</td>\n",
       "      <td>72</td>\n",
       "      <td>34.8</td>\n",
       "      <td>5</td>\n",
       "      <td>0.00</td>\n",
       "    </tr>\n",
       "    <tr>\n",
       "      <th>3</th>\n",
       "      <td>10249/14</td>\n",
       "      <td>10249</td>\n",
       "      <td>14</td>\n",
       "      <td>18.6</td>\n",
       "      <td>9</td>\n",
       "      <td>0.00</td>\n",
       "    </tr>\n",
       "    <tr>\n",
       "      <th>4</th>\n",
       "      <td>10249/51</td>\n",
       "      <td>10249</td>\n",
       "      <td>51</td>\n",
       "      <td>42.4</td>\n",
       "      <td>40</td>\n",
       "      <td>0.00</td>\n",
       "    </tr>\n",
       "    <tr>\n",
       "      <th>5</th>\n",
       "      <td>10250/41</td>\n",
       "      <td>10250</td>\n",
       "      <td>41</td>\n",
       "      <td>7.7</td>\n",
       "      <td>10</td>\n",
       "      <td>0.00</td>\n",
       "    </tr>\n",
       "    <tr>\n",
       "      <th>6</th>\n",
       "      <td>10250/51</td>\n",
       "      <td>10250</td>\n",
       "      <td>51</td>\n",
       "      <td>42.4</td>\n",
       "      <td>35</td>\n",
       "      <td>0.15</td>\n",
       "    </tr>\n",
       "    <tr>\n",
       "      <th>7</th>\n",
       "      <td>10250/65</td>\n",
       "      <td>10250</td>\n",
       "      <td>65</td>\n",
       "      <td>16.8</td>\n",
       "      <td>15</td>\n",
       "      <td>0.15</td>\n",
       "    </tr>\n",
       "    <tr>\n",
       "      <th>8</th>\n",
       "      <td>10251/22</td>\n",
       "      <td>10251</td>\n",
       "      <td>22</td>\n",
       "      <td>16.8</td>\n",
       "      <td>6</td>\n",
       "      <td>0.05</td>\n",
       "    </tr>\n",
       "    <tr>\n",
       "      <th>9</th>\n",
       "      <td>10251/57</td>\n",
       "      <td>10251</td>\n",
       "      <td>57</td>\n",
       "      <td>15.6</td>\n",
       "      <td>15</td>\n",
       "      <td>0.05</td>\n",
       "    </tr>\n",
       "  </tbody>\n",
       "</table>\n",
       "</div>"
      ],
      "text/plain": [
       "         Id  OrderId  ProductId  UnitPrice  Quantity  Discount\n",
       "0  10248/11    10248         11       14.0        12      0.00\n",
       "1  10248/42    10248         42        9.8        10      0.00\n",
       "2  10248/72    10248         72       34.8         5      0.00\n",
       "3  10249/14    10249         14       18.6         9      0.00\n",
       "4  10249/51    10249         51       42.4        40      0.00\n",
       "5  10250/41    10250         41        7.7        10      0.00\n",
       "6  10250/51    10250         51       42.4        35      0.15\n",
       "7  10250/65    10250         65       16.8        15      0.15\n",
       "8  10251/22    10251         22       16.8         6      0.05\n",
       "9  10251/57    10251         57       15.6        15      0.05"
      ]
     },
     "execution_count": 7,
     "metadata": {},
     "output_type": "execute_result"
    }
   ],
   "source": [
    "#Fetch the 'OrderDetail' table to examine it\n",
    "table_fetcher('OrderDetail', 10)"
   ]
  },
  {
   "cell_type": "markdown",
   "metadata": {},
   "source": [
    "If we take 'number of products customers order' to mean the number of products they buy in a particular order, rather than the entire purchasing history over the time they are a customer, this table may actually have all the info we need. Orders are uniquely identified with 'OrderId', number of products in a given order can be calculated with 'ProductId' and 'Quantity', and total order discount can be calculated by averaging 'Discount' across the entire quantity (or value) of items. "
   ]
  },
  {
   "cell_type": "code",
   "execution_count": 8,
   "metadata": {},
   "outputs": [],
   "source": [
    "#copying table into variable for question 1\n",
    "q1 = table_fetcher('OrderDetail')"
   ]
  },
  {
   "cell_type": "code",
   "execution_count": 9,
   "metadata": {},
   "outputs": [
    {
     "name": "stdout",
     "output_type": "stream",
     "text": [
      "830\n"
     ]
    }
   ],
   "source": [
    "#Get the number of unique orders in the DataFrame\n",
    "print(len(q1['OrderId'].unique()))"
   ]
  },
  {
   "cell_type": "code",
   "execution_count": 10,
   "metadata": {},
   "outputs": [],
   "source": [
    "#Sort the DataFrame by 'OrderId' to make iterating through the data easier\n",
    "q1.sort_values('OrderId', inplace=True)"
   ]
  },
  {
   "cell_type": "code",
   "execution_count": 11,
   "metadata": {},
   "outputs": [
    {
     "data": {
      "text/html": [
       "<div>\n",
       "<style scoped>\n",
       "    .dataframe tbody tr th:only-of-type {\n",
       "        vertical-align: middle;\n",
       "    }\n",
       "\n",
       "    .dataframe tbody tr th {\n",
       "        vertical-align: top;\n",
       "    }\n",
       "\n",
       "    .dataframe thead th {\n",
       "        text-align: right;\n",
       "    }\n",
       "</style>\n",
       "<table border=\"1\" class=\"dataframe\">\n",
       "  <thead>\n",
       "    <tr style=\"text-align: right;\">\n",
       "      <th></th>\n",
       "      <th>order_id</th>\n",
       "      <th>total_quantity</th>\n",
       "      <th>free_products</th>\n",
       "      <th>total_value</th>\n",
       "      <th>dollars_off</th>\n",
       "    </tr>\n",
       "  </thead>\n",
       "  <tbody>\n",
       "    <tr>\n",
       "      <th>0</th>\n",
       "      <td>10248.0</td>\n",
       "      <td>27.0</td>\n",
       "      <td>0.00</td>\n",
       "      <td>440.0</td>\n",
       "      <td>0.00</td>\n",
       "    </tr>\n",
       "    <tr>\n",
       "      <th>1</th>\n",
       "      <td>10249.0</td>\n",
       "      <td>49.0</td>\n",
       "      <td>0.00</td>\n",
       "      <td>1863.4</td>\n",
       "      <td>0.00</td>\n",
       "    </tr>\n",
       "    <tr>\n",
       "      <th>2</th>\n",
       "      <td>10250.0</td>\n",
       "      <td>60.0</td>\n",
       "      <td>7.50</td>\n",
       "      <td>1813.0</td>\n",
       "      <td>260.40</td>\n",
       "    </tr>\n",
       "    <tr>\n",
       "      <th>3</th>\n",
       "      <td>10251.0</td>\n",
       "      <td>41.0</td>\n",
       "      <td>1.05</td>\n",
       "      <td>670.8</td>\n",
       "      <td>16.74</td>\n",
       "    </tr>\n",
       "    <tr>\n",
       "      <th>4</th>\n",
       "      <td>10252.0</td>\n",
       "      <td>105.0</td>\n",
       "      <td>3.25</td>\n",
       "      <td>3730.0</td>\n",
       "      <td>132.10</td>\n",
       "    </tr>\n",
       "  </tbody>\n",
       "</table>\n",
       "</div>"
      ],
      "text/plain": [
       "   order_id  total_quantity  free_products  total_value  dollars_off\n",
       "0   10248.0            27.0           0.00        440.0         0.00\n",
       "1   10249.0            49.0           0.00       1863.4         0.00\n",
       "2   10250.0            60.0           7.50       1813.0       260.40\n",
       "3   10251.0            41.0           1.05        670.8        16.74\n",
       "4   10252.0           105.0           3.25       3730.0       132.10"
      ]
     },
     "execution_count": 11,
     "metadata": {},
     "output_type": "execute_result"
    }
   ],
   "source": [
    "#Set last_order_id to something that is very unlikely to ever be an order ID\n",
    "last_order_id = -1\n",
    "\n",
    "#Set current index for the new DataFrame so it starts at index 0 when 1 is added\n",
    "#on the condition of encountering a new row in the old DataFrame\n",
    "q1_processed_index = -1\n",
    "\n",
    "#Create new DataFrame with relevant columns\n",
    "q1_processed = pd.DataFrame(columns=['order_id', 'total_quantity', 'free_products', 'total_value', 'dollars_off'])\n",
    "#Iterate through rows in old dataframe\n",
    "for index, data in q1.iterrows():\n",
    "    #Extract data from each row into variables\n",
    "    order_id = int(data[1])\n",
    "    total_quantity = int(data[4])\n",
    "    price = data[3]\n",
    "    discount = data[5]\n",
    "    #Calculate total value of products in row\n",
    "    total_value = float(total_quantity * price)\n",
    "    #Calculate number of dollars off for row by multiplying total value by discount\n",
    "    dollars_off = float(discount * total_value)\n",
    "    #Calculate number of free products for row by multiplying number of products by discount\n",
    "    free_products = float(discount * total_quantity)\n",
    "    #Check if row contains the same order id as the previous one\n",
    "    if data[1] != last_order_id:\n",
    "        #If so, add 1 to the new DataFrame index variable\n",
    "        q1_processed_index += 1\n",
    "        #Take all the calculated values and place them in the new DataFrame row\n",
    "        q1_processed.loc[q1_processed_index] = [order_id, total_quantity, free_products, total_value, dollars_off] \n",
    "    else: \n",
    "        #Otherwise, add the new values to the existing values for that order id\n",
    "        new_total_quantity = total_quantity + q1_processed.loc[q1_processed_index][1]\n",
    "        new_free_products = free_products + q1_processed.loc[q1_processed_index][2]\n",
    "        new_total_value = total_value + q1_processed.loc[q1_processed_index][3]\n",
    "        new_dollars_off = dollars_off + q1_processed.loc[q1_processed_index][4]\n",
    "        q1_processed.loc[q1_processed_index] = [order_id, new_total_quantity, new_free_products, new_total_value, new_dollars_off]\n",
    "    #Update last order id variable so the script knows what order id it processed in the last loop\n",
    "    last_order_id = order_id\n",
    "#Display a sample of results\n",
    "q1_processed.head()"
   ]
  },
  {
   "cell_type": "code",
   "execution_count": 12,
   "metadata": {},
   "outputs": [],
   "source": [
    "#Divide 'dollars_off' by 'total_value' to get the dollar discount rate\n",
    "q1_processed['dollar_discount'] = q1_processed['dollars_off']/q1_processed['total_value']"
   ]
  },
  {
   "cell_type": "code",
   "execution_count": 13,
   "metadata": {},
   "outputs": [],
   "source": [
    "#Divide 'free_products' by 'total_quantity' to get the product discount\n",
    "#(portion of products that were technically free)\n",
    "q1_processed['product_discount'] = q1_processed['free_products']/q1_processed['total_quantity']"
   ]
  },
  {
   "cell_type": "code",
   "execution_count": 14,
   "metadata": {},
   "outputs": [
    {
     "data": {
      "text/html": [
       "<div>\n",
       "<style scoped>\n",
       "    .dataframe tbody tr th:only-of-type {\n",
       "        vertical-align: middle;\n",
       "    }\n",
       "\n",
       "    .dataframe tbody tr th {\n",
       "        vertical-align: top;\n",
       "    }\n",
       "\n",
       "    .dataframe thead th {\n",
       "        text-align: right;\n",
       "    }\n",
       "</style>\n",
       "<table border=\"1\" class=\"dataframe\">\n",
       "  <thead>\n",
       "    <tr style=\"text-align: right;\">\n",
       "      <th></th>\n",
       "      <th>order_id</th>\n",
       "      <th>total_quantity</th>\n",
       "      <th>free_products</th>\n",
       "      <th>total_value</th>\n",
       "      <th>dollars_off</th>\n",
       "      <th>dollar_discount</th>\n",
       "      <th>product_discount</th>\n",
       "    </tr>\n",
       "  </thead>\n",
       "  <tbody>\n",
       "    <tr>\n",
       "      <th>0</th>\n",
       "      <td>10248.0</td>\n",
       "      <td>27.0</td>\n",
       "      <td>0.00</td>\n",
       "      <td>440.0</td>\n",
       "      <td>0.00</td>\n",
       "      <td>0.000000</td>\n",
       "      <td>0.000000</td>\n",
       "    </tr>\n",
       "    <tr>\n",
       "      <th>1</th>\n",
       "      <td>10249.0</td>\n",
       "      <td>49.0</td>\n",
       "      <td>0.00</td>\n",
       "      <td>1863.4</td>\n",
       "      <td>0.00</td>\n",
       "      <td>0.000000</td>\n",
       "      <td>0.000000</td>\n",
       "    </tr>\n",
       "    <tr>\n",
       "      <th>2</th>\n",
       "      <td>10250.0</td>\n",
       "      <td>60.0</td>\n",
       "      <td>7.50</td>\n",
       "      <td>1813.0</td>\n",
       "      <td>260.40</td>\n",
       "      <td>0.143629</td>\n",
       "      <td>0.125000</td>\n",
       "    </tr>\n",
       "    <tr>\n",
       "      <th>3</th>\n",
       "      <td>10251.0</td>\n",
       "      <td>41.0</td>\n",
       "      <td>1.05</td>\n",
       "      <td>670.8</td>\n",
       "      <td>16.74</td>\n",
       "      <td>0.024955</td>\n",
       "      <td>0.025610</td>\n",
       "    </tr>\n",
       "    <tr>\n",
       "      <th>4</th>\n",
       "      <td>10252.0</td>\n",
       "      <td>105.0</td>\n",
       "      <td>3.25</td>\n",
       "      <td>3730.0</td>\n",
       "      <td>132.10</td>\n",
       "      <td>0.035416</td>\n",
       "      <td>0.030952</td>\n",
       "    </tr>\n",
       "  </tbody>\n",
       "</table>\n",
       "</div>"
      ],
      "text/plain": [
       "   order_id  total_quantity  free_products  total_value  dollars_off  \\\n",
       "0   10248.0            27.0           0.00        440.0         0.00   \n",
       "1   10249.0            49.0           0.00       1863.4         0.00   \n",
       "2   10250.0            60.0           7.50       1813.0       260.40   \n",
       "3   10251.0            41.0           1.05        670.8        16.74   \n",
       "4   10252.0           105.0           3.25       3730.0       132.10   \n",
       "\n",
       "   dollar_discount  product_discount  \n",
       "0         0.000000          0.000000  \n",
       "1         0.000000          0.000000  \n",
       "2         0.143629          0.125000  \n",
       "3         0.024955          0.025610  \n",
       "4         0.035416          0.030952  "
      ]
     },
     "execution_count": 14,
     "metadata": {},
     "output_type": "execute_result"
    }
   ],
   "source": [
    "q1_processed.head()"
   ]
  },
  {
   "cell_type": "code",
   "execution_count": 63,
   "metadata": {},
   "outputs": [
    {
     "data": {
      "image/png": "[encoded data removed]",
      "text/plain": [
       "<Figure size 432x288 with 1 Axes>"
      ]
     },
     "metadata": {
      "needs_background": "light"
     },
     "output_type": "display_data"
    }
   ],
   "source": [
    "#Import pyplot and create a scatter plot of the relationship\n",
    "#between 'dollar_discount' and 'product_discount'\n",
    "import matplotlib.pyplot as plt\n",
    "plt.scatter(q1_processed['dollar_discount'], q1_processed['product_discount'])\n",
    "plt.title('dollar_discount versus product_discount')\n",
    "plt.xlabel('dollar_discount')\n",
    "plt.ylabel('product_discount')\n",
    "plt.show()"
   ]
  },
  {
   "cell_type": "markdown",
   "metadata": {},
   "source": [
    "I'm not sure which of these metrics of 'discountedness' is more useful, but to answer question 1, we only need to compare the distributions of discounted and non-discounted orders."
   ]
  },
  {
   "cell_type": "code",
   "execution_count": 16,
   "metadata": {},
   "outputs": [],
   "source": [
    "#Create separate dataframes with discounted and non-discounted orders\n",
    "q1_orders_with_discount = q1_processed.loc[q1_processed['dollar_discount']>0, ['total_quantity']]\n",
    "q1_orders_without_discount = q1_processed.loc[q1_processed['dollar_discount']==0, ['total_quantity']]"
   ]
  },
  {
   "cell_type": "code",
   "execution_count": 17,
   "metadata": {
    "scrolled": true
   },
   "outputs": [
    {
     "data": {
      "image/png": "[encoded data removed]",
      "text/plain": [
       "<Figure size 432x288 with 1 Axes>"
      ]
     },
     "metadata": {
      "needs_background": "light"
     },
     "output_type": "display_data"
    }
   ],
   "source": [
    "#Plot overlapping histograms of the two populations\n",
    "plt.hist(q1_orders_with_discount.values, alpha=0.5, label='Discount', bins=25)\n",
    "plt.hist(q1_orders_without_discount.values, alpha=0.5, label='No Discount', bins=25)\n",
    "plt.legend()\n",
    "plt.xlabel('# of Products in Order')\n",
    "plt.ylabel('Frequency')\n",
    "plt.show()"
   ]
  },
  {
   "cell_type": "markdown",
   "metadata": {},
   "source": [
    "It looks like orders with and without discounts have noticeably different distributions. We will go on to examine these distributions statistically to define the relationship between discount and number of products. To be safe, we will use a **two-tailed T-test**."
   ]
  },
  {
   "cell_type": "code",
   "execution_count": 18,
   "metadata": {},
   "outputs": [],
   "source": [
    "#Import statistical packages\n",
    "import numpy as np\n",
    "import math\n",
    "from scipy import stats"
   ]
  },
  {
   "cell_type": "code",
   "execution_count": 19,
   "metadata": {},
   "outputs": [
    {
     "name": "stdout",
     "output_type": "stream",
     "text": [
      "non: 450 \n",
      "dis: 380\n"
     ]
    }
   ],
   "source": [
    "print(f'non: {len(q1_orders_without_discount)} \\ndis: {len(q1_orders_with_discount)}')"
   ]
  },
  {
   "cell_type": "code",
   "execution_count": 20,
   "metadata": {},
   "outputs": [
    {
     "name": "stdout",
     "output_type": "stream",
     "text": [
      "t-statistic: -5.886184782446325\n",
      "p-value: 5.850677815891118e-09\n"
     ]
    }
   ],
   "source": [
    "#Use the scipy stats T-test function to find our p-value\n",
    "q1_result = stats.ttest_ind(q1_orders_without_discount, q1_orders_with_discount, equal_var = False)\n",
    "print(f't-statistic: {q1_result.statistic[0]}\\np-value: {q1_result.pvalue[0]}')"
   ]
  },
  {
   "cell_type": "markdown",
   "metadata": {},
   "source": [
    "Comparing the resulting p-value of 5.85 * 10<sup>-9</sup> to our $\\alpha$ of 0.05, we find that overall, **discounts do have a statistically significant effect on the number of products customers order**. Customers buy more when there is a discount. Now we will examine what levels of discount, if any, do not have a statistically significant effect on products ordered."
   ]
  },
  {
   "cell_type": "markdown",
   "metadata": {},
   "source": [
    "### If discounts have statistically significant effect on # of products ordered, at what level(s) of discount?"
   ]
  },
  {
   "cell_type": "markdown",
   "metadata": {},
   "source": [
    "Since we know that, overall, discounts do have an effect on # of products sold, we now need to find out what specific levels of discount have an effect."
   ]
  },
  {
   "cell_type": "code",
   "execution_count": 21,
   "metadata": {},
   "outputs": [],
   "source": [
    "#Extract all the levels of discount in the discount DataFrame\n",
    "discount_distribution = q1_processed.loc[q1_processed['dollar_discount']>0, ['dollar_discount']]"
   ]
  },
  {
   "cell_type": "code",
   "execution_count": 22,
   "metadata": {},
   "outputs": [
    {
     "data": {
      "image/png": "[encoded data removed]",
      "text/plain": [
       "<Figure size 432x288 with 1 Axes>"
      ]
     },
     "metadata": {
      "needs_background": "light"
     },
     "output_type": "display_data"
    }
   ],
   "source": [
    "#Plot histogram of discount rates\n",
    "discount_distribution.hist(bins=50)\n",
    "plt.show()"
   ]
  },
  {
   "cell_type": "markdown",
   "metadata": {},
   "source": [
    "It looks like there are spikes in the discount distribution about every 0.05, probably because these were popular levels of discount. I imagine that the values in between are from averaging the discounts of different products in an order. To find out "
   ]
  },
  {
   "cell_type": "code",
   "execution_count": 23,
   "metadata": {
    "scrolled": true
   },
   "outputs": [
    {
     "data": {
      "text/html": [
       "<div>\n",
       "<style scoped>\n",
       "    .dataframe tbody tr th:only-of-type {\n",
       "        vertical-align: middle;\n",
       "    }\n",
       "\n",
       "    .dataframe tbody tr th {\n",
       "        vertical-align: top;\n",
       "    }\n",
       "\n",
       "    .dataframe thead th {\n",
       "        text-align: right;\n",
       "    }\n",
       "</style>\n",
       "<table border=\"1\" class=\"dataframe\">\n",
       "  <thead>\n",
       "    <tr style=\"text-align: right;\">\n",
       "      <th></th>\n",
       "      <th>order_id</th>\n",
       "      <th>total_quantity</th>\n",
       "      <th>free_products</th>\n",
       "      <th>total_value</th>\n",
       "      <th>dollars_off</th>\n",
       "      <th>dollar_discount</th>\n",
       "      <th>product_discount</th>\n",
       "    </tr>\n",
       "  </thead>\n",
       "  <tbody>\n",
       "    <tr>\n",
       "      <th>0</th>\n",
       "      <td>10248.0</td>\n",
       "      <td>27.0</td>\n",
       "      <td>0.00</td>\n",
       "      <td>440.0</td>\n",
       "      <td>0.00</td>\n",
       "      <td>0.000000</td>\n",
       "      <td>0.000000</td>\n",
       "    </tr>\n",
       "    <tr>\n",
       "      <th>1</th>\n",
       "      <td>10249.0</td>\n",
       "      <td>49.0</td>\n",
       "      <td>0.00</td>\n",
       "      <td>1863.4</td>\n",
       "      <td>0.00</td>\n",
       "      <td>0.000000</td>\n",
       "      <td>0.000000</td>\n",
       "    </tr>\n",
       "    <tr>\n",
       "      <th>2</th>\n",
       "      <td>10250.0</td>\n",
       "      <td>60.0</td>\n",
       "      <td>7.50</td>\n",
       "      <td>1813.0</td>\n",
       "      <td>260.40</td>\n",
       "      <td>0.143629</td>\n",
       "      <td>0.125000</td>\n",
       "    </tr>\n",
       "    <tr>\n",
       "      <th>3</th>\n",
       "      <td>10251.0</td>\n",
       "      <td>41.0</td>\n",
       "      <td>1.05</td>\n",
       "      <td>670.8</td>\n",
       "      <td>16.74</td>\n",
       "      <td>0.024955</td>\n",
       "      <td>0.025610</td>\n",
       "    </tr>\n",
       "    <tr>\n",
       "      <th>4</th>\n",
       "      <td>10252.0</td>\n",
       "      <td>105.0</td>\n",
       "      <td>3.25</td>\n",
       "      <td>3730.0</td>\n",
       "      <td>132.10</td>\n",
       "      <td>0.035416</td>\n",
       "      <td>0.030952</td>\n",
       "    </tr>\n",
       "  </tbody>\n",
       "</table>\n",
       "</div>"
      ],
      "text/plain": [
       "   order_id  total_quantity  free_products  total_value  dollars_off  \\\n",
       "0   10248.0            27.0           0.00        440.0         0.00   \n",
       "1   10249.0            49.0           0.00       1863.4         0.00   \n",
       "2   10250.0            60.0           7.50       1813.0       260.40   \n",
       "3   10251.0            41.0           1.05        670.8        16.74   \n",
       "4   10252.0           105.0           3.25       3730.0       132.10   \n",
       "\n",
       "   dollar_discount  product_discount  \n",
       "0         0.000000          0.000000  \n",
       "1         0.000000          0.000000  \n",
       "2         0.143629          0.125000  \n",
       "3         0.024955          0.025610  \n",
       "4         0.035416          0.030952  "
      ]
     },
     "execution_count": 23,
     "metadata": {},
     "output_type": "execute_result"
    }
   ],
   "source": [
    "#Preview processed DataFrame again\n",
    "q1_processed.head()"
   ]
  },
  {
   "cell_type": "code",
   "execution_count": 24,
   "metadata": {},
   "outputs": [],
   "source": [
    "from statsmodels.stats.multicomp import pairwise_tukeyhsd"
   ]
  },
  {
   "cell_type": "code",
   "execution_count": 25,
   "metadata": {},
   "outputs": [],
   "source": [
    "q1_tukey_0 = q1_processed[q1_processed['dollar_discount']==0]['total_quantity']"
   ]
  },
  {
   "cell_type": "code",
   "execution_count": 26,
   "metadata": {},
   "outputs": [],
   "source": [
    "q1_tukey_01to05 = q1_processed[(q1_processed['dollar_discount']>0) & \n",
    "    (q1_processed['dollar_discount']<=0.05)]['total_quantity']"
   ]
  },
  {
   "cell_type": "code",
   "execution_count": 27,
   "metadata": {},
   "outputs": [],
   "source": [
    "q1_tukey_05to10 = q1_processed[(q1_processed['dollar_discount']>0.05) & \n",
    "    (q1_processed['dollar_discount']<=0.10)]['total_quantity']"
   ]
  },
  {
   "cell_type": "code",
   "execution_count": 28,
   "metadata": {},
   "outputs": [],
   "source": [
    "q1_tukey_10to15 = q1_processed[(q1_processed['dollar_discount']>0.10) & \n",
    "    (q1_processed['dollar_discount']<=0.15)]['total_quantity']"
   ]
  },
  {
   "cell_type": "code",
   "execution_count": 29,
   "metadata": {},
   "outputs": [],
   "source": [
    "q1_tukey_15to20 = q1_processed[(q1_processed['dollar_discount']>0.15) & \n",
    "    (q1_processed['dollar_discount']<=0.20)]['total_quantity']"
   ]
  },
  {
   "cell_type": "code",
   "execution_count": 30,
   "metadata": {},
   "outputs": [],
   "source": [
    "q1_tukey_20to25 = q1_processed[(q1_processed['dollar_discount']>0.20) & \n",
    "    (q1_processed['dollar_discount']<=0.25)]['total_quantity']"
   ]
  },
  {
   "cell_type": "code",
   "execution_count": 31,
   "metadata": {},
   "outputs": [],
   "source": [
    "q1_tukey_25up = q1_processed[q1_processed['dollar_discount']>0.25]['total_quantity']"
   ]
  },
  {
   "cell_type": "code",
   "execution_count": 32,
   "metadata": {},
   "outputs": [],
   "source": [
    "q1_v = np.concatenate([\n",
    "    q1_tukey_0, \n",
    "    q1_tukey_01to05, \n",
    "    q1_tukey_05to10, \n",
    "    q1_tukey_10to15, \n",
    "    q1_tukey_15to20, \n",
    "    q1_tukey_20to25,\n",
    "    q1_tukey_25up])"
   ]
  },
  {
   "cell_type": "code",
   "execution_count": 33,
   "metadata": {},
   "outputs": [],
   "source": [
    "l1 = ['0 discount'] * len(q1_tukey_0)\n",
    "l2 = ['>0 to 0.05 discount'] * len(q1_tukey_01to05)\n",
    "l3 = ['>0.05 to 0.10 discount'] * len(q1_tukey_05to10)\n",
    "l4 = ['>0.10 to 0.15 discount'] * len(q1_tukey_10to15)\n",
    "l5 = ['>0.15 to 0.20 discount'] * len(q1_tukey_15to20)\n",
    "l6 = ['>0.20 to 0.25 discount'] * len(q1_tukey_20to25)\n",
    "l7 = ['>0.25 discount'] * len(q1_tukey_25up)\n",
    "\n",
    "q1_labels = l1 + l2 + l3 + l4 + l5 + l6 + l7"
   ]
  },
  {
   "cell_type": "code",
   "execution_count": 68,
   "metadata": {},
   "outputs": [],
   "source": [
    "q1_tukey_results = pairwise_tukeyhsd(q1_v, q1_labels, 0.05)"
   ]
  },
  {
   "cell_type": "code",
   "execution_count": 69,
   "metadata": {},
   "outputs": [
    {
     "name": "stdout",
     "output_type": "stream",
     "text": [
      "              Multiple Comparison of Means - Tukey HSD,FWER=0.05              \n",
      "==============================================================================\n",
      "        group1                 group2         meandiff  lower    upper  reject\n",
      "------------------------------------------------------------------------------\n",
      "      0 discount        >0 to 0.05 discount   17.7004   2.7836  32.6171  True \n",
      "      0 discount       >0.05 to 0.10 discount 19.9805   3.3985  36.5624  True \n",
      "      0 discount       >0.10 to 0.15 discount 18.8394   0.3298   37.349  True \n",
      "      0 discount       >0.15 to 0.20 discount 21.9886   2.8515  41.1256  True \n",
      "      0 discount       >0.20 to 0.25 discount 28.7089   6.901   50.5169  True \n",
      " >0 to 0.05 discount   >0.05 to 0.10 discount  2.2801  -17.907  22.4672 False \n",
      " >0 to 0.05 discount   >0.10 to 0.15 discount  1.1391  -20.6592 22.9373 False \n",
      " >0 to 0.05 discount   >0.15 to 0.20 discount  4.2882  -18.0453 26.6217 False \n",
      " >0 to 0.05 discount   >0.20 to 0.25 discount 11.0086  -13.652  35.6692 False \n",
      ">0.05 to 0.10 discount >0.10 to 0.15 discount  -1.141  -24.1109 21.8288 False \n",
      ">0.05 to 0.10 discount >0.15 to 0.20 discount  2.0081  -21.4703 25.4866 False \n",
      ">0.05 to 0.10 discount >0.20 to 0.25 discount  8.7285  -16.9736 34.4306 False \n",
      ">0.10 to 0.15 discount >0.15 to 0.20 discount  3.1492  -21.7281 28.0265 False \n",
      ">0.10 to 0.15 discount >0.20 to 0.25 discount  9.8695  -17.1164 36.8555 False \n",
      ">0.15 to 0.20 discount >0.20 to 0.25 discount  6.7204  -20.6998 34.1405 False \n",
      "------------------------------------------------------------------------------\n"
     ]
    }
   ],
   "source": [
    "print(q1_tukey_results)"
   ]
  },
  {
   "cell_type": "markdown",
   "metadata": {},
   "source": [
    "Based on this output, we can reasonably conclude that all levels of discount have a statistically significant relationship with the quantity of items in an order (P<0.05)."
   ]
  },
  {
   "cell_type": "markdown",
   "metadata": {},
   "source": [
    "## Question 2: Do orders contain a statistically significant different value of products when the employee responsible for the sale has the same phone area code as the customer?"
   ]
  },
  {
   "cell_type": "markdown",
   "metadata": {},
   "source": [
    "Four tables are relevant to this question:\n",
    "\n",
    "* Orders\n",
    "* OrderDetail\n",
    "* Customer\n",
    "* Employee"
   ]
  },
  {
   "cell_type": "markdown",
   "metadata": {},
   "source": [
    "We define our null and alternative hypothesis:\n",
    "\n",
    "**H<sub>0</sub>:** μ<sub>same</sub> = μ<sub>diff</sub>\n",
    "\n",
    "**H<sub>1</sub>:** μ<sub>same</sub> ≠ μ<sub>diff</sub>\n",
    "\n",
    "**$\\alpha$:** 0.05\n",
    "\n",
    "**μ<sub>same</sub>:** mean value of orders where customer/employee pairs had same phone area code\n",
    "\n",
    "**μ<sub>diff</sub>:** mean value of orders where customer/employee pairs had different phone area code\n",
    "\n",
    "**n<sub>same</sub>**: 12\n",
    "\n",
    "**n<sub>diff</sub>**: 789\n"
   ]
  },
  {
   "cell_type": "code",
   "execution_count": 36,
   "metadata": {},
   "outputs": [],
   "source": [
    "#Open SQL query file to search for orders with matching customer/employee area codes\n",
    "file = open('q2_matching-area-codes.sql','r')\n",
    "matching_area_codes = file.read()\n",
    "file.close()"
   ]
  },
  {
   "cell_type": "code",
   "execution_count": 37,
   "metadata": {},
   "outputs": [],
   "source": [
    "#Execute SQL query\n",
    "matching_results = c.execute(matching_area_codes).fetchall()"
   ]
  },
  {
   "cell_type": "code",
   "execution_count": 38,
   "metadata": {},
   "outputs": [],
   "source": [
    "#Open SQL query file to search for orders with non-matching customer/employee area codes\n",
    "file = open('q2_nonmatching-area-codes.sql', 'r')\n",
    "nonmatching_area_codes = file.read()\n",
    "file.close()"
   ]
  },
  {
   "cell_type": "code",
   "execution_count": 39,
   "metadata": {},
   "outputs": [],
   "source": [
    "#Execute SQL query\n",
    "nonmatching_results = c.execute(nonmatching_area_codes).fetchall()"
   ]
  },
  {
   "cell_type": "code",
   "execution_count": 40,
   "metadata": {
    "scrolled": false
   },
   "outputs": [
    {
     "data": {
      "text/plain": [
       "[(2296.0,),\n",
       " (956.675,),\n",
       " (1388.5,),\n",
       " (764.3,),\n",
       " (1180.88,),\n",
       " (2071.2,),\n",
       " (996.0,),\n",
       " (468.45,),\n",
       " (1416.0,),\n",
       " (3523.4,),\n",
       " (1924.25,),\n",
       " (8902.5,)]"
      ]
     },
     "execution_count": 40,
     "metadata": {},
     "output_type": "execute_result"
    }
   ],
   "source": [
    "#Check results\n",
    "matching_results"
   ]
  },
  {
   "cell_type": "markdown",
   "metadata": {},
   "source": [
    "The returned list seems to contain tuples with our number inside. We will write a de-tupling function to extract the value."
   ]
  },
  {
   "cell_type": "code",
   "execution_count": 41,
   "metadata": {},
   "outputs": [],
   "source": [
    "def detupler(list):\n",
    "    return [x[0] for x in list]"
   ]
  },
  {
   "cell_type": "code",
   "execution_count": 42,
   "metadata": {},
   "outputs": [],
   "source": [
    "matching_results_cleaned = detupler(matching_results)"
   ]
  },
  {
   "cell_type": "code",
   "execution_count": 43,
   "metadata": {},
   "outputs": [],
   "source": [
    "nonmatching_results_cleaned = detupler(nonmatching_results)"
   ]
  },
  {
   "cell_type": "code",
   "execution_count": 44,
   "metadata": {},
   "outputs": [
    {
     "data": {
      "image/png": "[encoded data removed]",
      "text/plain": [
       "<Figure size 432x288 with 1 Axes>"
      ]
     },
     "metadata": {
      "needs_background": "light"
     },
     "output_type": "display_data"
    }
   ],
   "source": [
    "'''\n",
    "Plot distributions of order value for customer/employee\n",
    "pairs with matching and nonmatching area codes\n",
    "'''\n",
    "plt.hist(matching_results_cleaned, alpha=0.5, label='Matching Area Codes', bins=25)\n",
    "plt.hist(nonmatching_results_cleaned, alpha=0.5, label='Non-matching Area Codes', bins=25)\n",
    "plt.legend()\n",
    "plt.xlabel('Order Value')\n",
    "plt.ylabel('Frequency')\n",
    "plt.show()"
   ]
  },
  {
   "cell_type": "code",
   "execution_count": 45,
   "metadata": {},
   "outputs": [
    {
     "data": {
      "image/png": "[encoded data removed]",
      "text/plain": [
       "<Figure size 432x288 with 1 Axes>"
      ]
     },
     "metadata": {
      "needs_background": "light"
     },
     "output_type": "display_data"
    }
   ],
   "source": [
    "#Re-plot with log scale y axis\n",
    "plt.hist(matching_results_cleaned, alpha=0.5, label='Matching Area Codes', bins=25)\n",
    "plt.hist(nonmatching_results_cleaned, alpha=0.5, label='Non-matching Area Codes', bins=25)\n",
    "plt.legend()\n",
    "plt.xlabel('Order Value')\n",
    "plt.ylabel('Frequency')\n",
    "plt.yscale('log')\n",
    "plt.show()"
   ]
  },
  {
   "cell_type": "code",
   "execution_count": 46,
   "metadata": {},
   "outputs": [],
   "source": [
    "#Perform two-tailed Mann-Whitney U Test on the distributions with Scipy Stats library\n",
    "q2_result = stats.mannwhitneyu(\n",
    "    matching_results_cleaned, nonmatching_results_cleaned, alternative='two-sided'\n",
    ")"
   ]
  },
  {
   "cell_type": "code",
   "execution_count": 47,
   "metadata": {},
   "outputs": [
    {
     "data": {
      "text/plain": [
       "0.08210731477282339"
      ]
     },
     "execution_count": 47,
     "metadata": {},
     "output_type": "execute_result"
    }
   ],
   "source": [
    "#Get P-value of test\n",
    "q2_result.pvalue"
   ]
  },
  {
   "cell_type": "markdown",
   "metadata": {},
   "source": [
    "Based on the test, **there is not a statistically significant different value of products ordered** when the employee responsible for the sale has the same phone area code as the customer.\n",
    "\n",
    "**P (0.08) > $\\alpha$ (0.05)**"
   ]
  },
  {
   "cell_type": "markdown",
   "metadata": {},
   "source": [
    "## Question 3: Do products in the greater half by quantity sold have a statistically significant different reorder threshold than those in the lesser half by quantity sold?"
   ]
  },
  {
   "cell_type": "markdown",
   "metadata": {},
   "source": [
    "Three tables are relevant to this question:\n",
    "* Product\n",
    "* OrderDetail\n",
    "* Order"
   ]
  },
  {
   "cell_type": "markdown",
   "metadata": {},
   "source": [
    "We define our null and alternative hypothesis:\n",
    "\n",
    "**H<sub>0</sub>:** μ<sub>greater</sub> = μ<sub>lesser</sub>\n",
    "\n",
    "**H<sub>1</sub>:** μ<sub>greater</sub> ≠ μ<sub>lesser</sub>\n",
    "\n",
    "**$\\alpha$:** 0.05\n",
    "\n",
    "**μ<sub>greater</sub>:** mean reorder threshold of products in the greater half by quantity sold\n",
    "\n",
    "**μ<sub>lesser</sub>:** mean reorder threshold of products in the lesser half by quantity sold\n",
    "\n",
    "**n<sub>greater</sub>**: 38\n",
    "\n",
    "**n<sub>lesser</sub>**: 38"
   ]
  },
  {
   "cell_type": "code",
   "execution_count": 48,
   "metadata": {
    "scrolled": false
   },
   "outputs": [],
   "source": [
    "q3_lesser_half = c.execute('''\n",
    "  SELECT Product.ReorderLevel\n",
    "    FROM Product\n",
    "    JOIN OrderDetail ON Product.Id=OrderDetail.ProductId\n",
    "    JOIN [Order] ON [Order].Id=OrderDetail.OrderId\n",
    "GROUP BY Product.Id\n",
    "ORDER BY SUM(OrderDetail.Quantity) ASC\n",
    "LIMIT 38\n",
    "''').fetchall()"
   ]
  },
  {
   "cell_type": "code",
   "execution_count": 49,
   "metadata": {
    "scrolled": false
   },
   "outputs": [],
   "source": [
    "q3_greater_half = c.execute('''\n",
    "  SELECT Product.ReorderLevel\n",
    "    FROM Product\n",
    "    JOIN OrderDetail ON Product.Id=OrderDetail.ProductId\n",
    "    JOIN [Order] ON [Order].Id=OrderDetail.OrderId\n",
    "GROUP BY Product.Id\n",
    "ORDER BY SUM(OrderDetail.Quantity) DESC\n",
    "LIMIT 38\n",
    "''').fetchall()"
   ]
  },
  {
   "cell_type": "code",
   "execution_count": 50,
   "metadata": {},
   "outputs": [],
   "source": [
    "q3_lesser_half = detupler(q3_lesser_half)\n",
    "q3_greater_half = detupler(q3_greater_half)"
   ]
  },
  {
   "cell_type": "code",
   "execution_count": 51,
   "metadata": {},
   "outputs": [
    {
     "data": {
      "image/png": "[encoded data removed]",
      "text/plain": [
       "<Figure size 432x288 with 1 Axes>"
      ]
     },
     "metadata": {
      "needs_background": "light"
     },
     "output_type": "display_data"
    }
   ],
   "source": [
    "plt.hist(q3_lesser_half, alpha=0.5, label='Lesser Half')\n",
    "plt.hist(q3_greater_half, alpha=0.5, label='Greater Half')\n",
    "plt.legend()\n",
    "plt.xlabel('Reorder Level')\n",
    "plt.ylabel('Frequency')\n",
    "plt.show()"
   ]
  },
  {
   "cell_type": "code",
   "execution_count": 52,
   "metadata": {},
   "outputs": [
    {
     "data": {
      "image/png": "[encoded data removed]",
      "text/plain": [
       "<Figure size 432x288 with 2 Axes>"
      ]
     },
     "metadata": {
      "needs_background": "light"
     },
     "output_type": "display_data"
    }
   ],
   "source": [
    "#Visualize data in two separate histograms for better interpretation\n",
    "q3_hist_figure = plt.figure()\n",
    "ax1 = q3_hist_figure.add_subplot(221)\n",
    "ax2 = q3_hist_figure.add_subplot(223)\n",
    "\n",
    "ax1.hist(q3_lesser_half, alpha=0.5, label='Lesser Half', color='Blue')\n",
    "ax2.hist(q3_greater_half, alpha=0.5, label='Greater Half', color='Orange')\n",
    "\n",
    "ax1.legend()\n",
    "ax1.set_xlabel('Reorder Level')\n",
    "ax1.set_ylabel('Frequency')\n",
    "\n",
    "ax2.legend()\n",
    "ax2.set_xlabel('Reorder Level')\n",
    "ax2.set_ylabel('Frequency')\n",
    "\n",
    "plt.show()"
   ]
  },
  {
   "cell_type": "code",
   "execution_count": 53,
   "metadata": {},
   "outputs": [
    {
     "name": "stdout",
     "output_type": "stream",
     "text": [
      "0.40382632307192035\n"
     ]
    }
   ],
   "source": [
    "#Use the scipy stats T-test function to find our p-value\n",
    "q3_result = stats.ttest_ind(q3_lesser_half, q3_greater_half, equal_var = False)\n",
    "print(q3_result.pvalue)"
   ]
  },
  {
   "cell_type": "markdown",
   "metadata": {},
   "source": [
    "Comparing the resulting p-value of 0.40382632307192035 to our 𝛼 of 0.05, we find that **whether a product is in the greater or lesser half of products by quantity sold does not \n",
    "have a statistically significant relationship with the reorder threshold**. "
   ]
  },
  {
   "cell_type": "markdown",
   "metadata": {},
   "source": [
    "## Question 4: Do customers with streaks of selecting the same shipper 5 or more times in a row have a statistically significant difference in lifetime sales value (loyalty)?"
   ]
  },
  {
   "cell_type": "markdown",
   "metadata": {},
   "source": [
    "Three tables are relevant to this question:\n",
    "* Order\n",
    "* OrderDetail\n",
    "* Customer"
   ]
  },
  {
   "cell_type": "markdown",
   "metadata": {},
   "source": [
    "We define our null and alternative hypothesis:\n",
    "\n",
    "**H<sub>0</sub>:** μ<sub>st</sub> = μ<sub>no</sub>\n",
    "\n",
    "**H<sub>1</sub>:** μ<sub>st</sub> ≠ μ<sub>no</sub>\n",
    "\n",
    "**$\\alpha$:** 0.05\n",
    "\n",
    "**μ<sub>st</sub>:** mean sales value of customers with a streak of selecting the same shipper 5 times\n",
    "\n",
    "**μ<sub>no</sub>:** mean sales value of customers without a streak of selecting the same shipper 5 times\n",
    "\n",
    "**n<sub>st</sub>**: 24\n",
    "\n",
    "**n<sub>no</sub>**: 61\n"
   ]
  },
  {
   "cell_type": "code",
   "execution_count": 54,
   "metadata": {},
   "outputs": [],
   "source": [
    "q4 = pd.DataFrame(c.execute('''\n",
    "    SELECT CustomerId, OrderDate, UnitPrice, Quantity, Discount, ShipVia\n",
    "      FROM [Order]\n",
    "INNER JOIN Customer ON [Order].CustomerId = Customer.Id\n",
    "INNER JOIN OrderDetail on [Order].Id = OrderDetail.OrderId\n",
    "  ORDER BY CustomerId, OrderDate\n",
    "''').fetchall())\n",
    "\n",
    "#Copy column names from SQL database to Pandas DataFrame\n",
    "q4.columns = [d[0] for d in c.description]"
   ]
  },
  {
   "cell_type": "code",
   "execution_count": 55,
   "metadata": {
    "scrolled": true
   },
   "outputs": [
    {
     "name": "stdout",
     "output_type": "stream",
     "text": [
      "     CustomerId   OrderDate  UnitPrice  Quantity  Discount  ShipVia\n",
      "0         ALFKI  2013-08-25      45.60        15      0.25        1\n",
      "1         ALFKI  2013-08-25      18.00        21      0.25        1\n",
      "2         ALFKI  2013-08-25      12.00         2      0.25        1\n",
      "3         ALFKI  2013-10-03      43.90        20      0.00        2\n",
      "4         ALFKI  2013-10-13      10.00         6      0.00        1\n",
      "5         ALFKI  2013-10-13      18.00        15      0.00        1\n",
      "6         ALFKI  2014-01-15      55.00        15      0.00        3\n",
      "7         ALFKI  2014-01-15      13.00         2      0.20        3\n",
      "8         ALFKI  2014-03-16      25.00        16      0.05        1\n",
      "9         ALFKI  2014-03-16      45.60         2      0.00        1\n",
      "10        ALFKI  2014-04-09      13.25        40      0.05        1\n",
      "11        ALFKI  2014-04-09      21.50        20      0.00        1\n",
      "12        ANATR  2012-09-18      28.80         1      0.00        3\n",
      "13        ANATR  2012-09-18      12.00         5      0.00        3\n",
      "14        ANATR  2013-08-08      23.25         3      0.00        1\n",
      "15        ANATR  2013-08-08      14.00         5      0.00        1\n",
      "16        ANATR  2013-08-08      34.00        10      0.00        1\n",
      "17        ANATR  2013-11-28      32.00        10      0.00        3\n",
      "18        ANATR  2014-03-04      21.00         2      0.00        3\n",
      "19        ANATR  2014-03-04       6.00        10      0.00        3\n",
      "20        ANATR  2014-03-04       9.20         7      0.00        3\n",
      "21        ANATR  2014-03-04      34.80        10      0.00        3\n",
      "22        AROUT  2012-11-15       3.60        25      0.00        1\n",
      "23        AROUT  2012-11-15      15.60        25      0.00        1\n",
      "24        AROUT  2012-12-16       4.80        20      0.00        3\n",
      "25        AROUT  2012-12-16      13.00        15      0.00        3\n",
      "26        AROUT  2012-12-16      30.40        20      0.00        3\n",
      "27        AROUT  2013-02-21      10.20        15      0.10        2\n",
      "28        AROUT  2013-02-21      12.00        25      0.10        2\n",
      "29        AROUT  2013-06-04       9.50        25      0.00        2\n",
      "...         ...         ...        ...       ...       ...      ...\n",
      "2048      WILMK  2013-09-18      46.00         6      0.00        1\n",
      "2049      WILMK  2013-10-07      40.00        10      0.00        1\n",
      "2050      WILMK  2013-10-07      38.00         4      0.00        1\n",
      "2051      WILMK  2013-10-07       4.50        20      0.00        1\n",
      "2052      WILMK  2014-02-06      10.00        20      0.00        1\n",
      "2053      WILMK  2014-02-06      45.60         3      0.00        1\n",
      "2054      WILMK  2014-02-10      18.40        12      0.00        3\n",
      "2055      WILMK  2014-02-10      21.05        10      0.00        3\n",
      "2056      WILMK  2014-02-10      18.00        10      0.00        3\n",
      "2057      WILMK  2014-02-26       9.20        12      0.00        3\n",
      "2058      WILMK  2014-02-26      20.00        10      0.00        3\n",
      "2059      WILMK  2014-02-26      28.50         5      0.00        3\n",
      "2060      WILMK  2014-04-07      18.00         2      0.00        1\n",
      "2061      WILMK  2014-04-07      55.00        10      0.00        1\n",
      "2062      WOLZA  2012-12-05      10.00        30      0.00        3\n",
      "2063      WOLZA  2012-12-05      10.60        15      0.00        3\n",
      "2064      WOLZA  2013-07-25      18.00         6      0.00        2\n",
      "2065      WOLZA  2013-07-25      19.00        10      0.00        2\n",
      "2066      WOLZA  2013-07-25      34.00        15      0.00        2\n",
      "2067      WOLZA  2013-12-23      19.00        10      0.00        3\n",
      "2068      WOLZA  2013-12-23       7.45         3      0.00        3\n",
      "2069      WOLZA  2013-12-23      12.50        15      0.00        3\n",
      "2070      WOLZA  2014-02-04      18.00         3      0.00        3\n",
      "2071      WOLZA  2014-02-04      53.00         2      0.00        3\n",
      "2072      WOLZA  2014-02-25      28.50        15      0.00        3\n",
      "2073      WOLZA  2014-04-03       4.50        12      0.00        2\n",
      "2074      WOLZA  2014-04-03      28.50         7      0.00        2\n",
      "2075      WOLZA  2014-04-03      10.00        20      0.00        2\n",
      "2076      WOLZA  2014-04-03       7.75        30      0.00        2\n",
      "2077      WOLZA  2014-04-23      49.30        12      0.00        1\n",
      "\n",
      "[2078 rows x 6 columns]\n"
     ]
    }
   ],
   "source": [
    "#Preview DataFrame\n",
    "print(q4)"
   ]
  },
  {
   "cell_type": "code",
   "execution_count": 56,
   "metadata": {},
   "outputs": [
    {
     "data": {
      "text/html": [
       "<div>\n",
       "<style scoped>\n",
       "    .dataframe tbody tr th:only-of-type {\n",
       "        vertical-align: middle;\n",
       "    }\n",
       "\n",
       "    .dataframe tbody tr th {\n",
       "        vertical-align: top;\n",
       "    }\n",
       "\n",
       "    .dataframe thead th {\n",
       "        text-align: right;\n",
       "    }\n",
       "</style>\n",
       "<table border=\"1\" class=\"dataframe\">\n",
       "  <thead>\n",
       "    <tr style=\"text-align: right;\">\n",
       "      <th></th>\n",
       "      <th>CustomerId</th>\n",
       "      <th>CustomerValue</th>\n",
       "      <th>ShippingStreak</th>\n",
       "    </tr>\n",
       "  </thead>\n",
       "  <tbody>\n",
       "    <tr>\n",
       "      <th>1</th>\n",
       "      <td>ALFKI</td>\n",
       "      <td>4273</td>\n",
       "      <td>4</td>\n",
       "    </tr>\n",
       "    <tr>\n",
       "      <th>2</th>\n",
       "      <td>ANATR</td>\n",
       "      <td>1402.95</td>\n",
       "      <td>5</td>\n",
       "    </tr>\n",
       "    <tr>\n",
       "      <th>3</th>\n",
       "      <td>AROUT</td>\n",
       "      <td>13390.7</td>\n",
       "      <td>7</td>\n",
       "    </tr>\n",
       "    <tr>\n",
       "      <th>4</th>\n",
       "      <td>BERGS</td>\n",
       "      <td>24927.6</td>\n",
       "      <td>6</td>\n",
       "    </tr>\n",
       "    <tr>\n",
       "      <th>5</th>\n",
       "      <td>BLAUS</td>\n",
       "      <td>3239.8</td>\n",
       "      <td>3</td>\n",
       "    </tr>\n",
       "  </tbody>\n",
       "</table>\n",
       "</div>"
      ],
      "text/plain": [
       "  CustomerId CustomerValue ShippingStreak\n",
       "1      ALFKI          4273              4\n",
       "2      ANATR       1402.95              5\n",
       "3      AROUT       13390.7              7\n",
       "4      BERGS       24927.6              6\n",
       "5      BLAUS        3239.8              3"
      ]
     },
     "execution_count": 56,
     "metadata": {},
     "output_type": "execute_result"
    }
   ],
   "source": [
    "q4_processed = pd.DataFrame(columns=['CustomerId', 'CustomerValue', 'ShippingStreak'])\n",
    "\n",
    "#INSTANTIATE SOME VARIABLES\n",
    "last_customer_id = ''\n",
    "last_ship_id = 0\n",
    "running_customer_value = 0\n",
    "ship_streak = 1\n",
    "q4_processed_index = 0\n",
    "\n",
    "#ITERATE THROUGH ROWS IN q4\n",
    "for index, data in q4.iterrows():\n",
    "    \n",
    "    #Move values from 'data' to scrutable variables\n",
    "    row_value = data[2] * data[3] * (1-data[4])\n",
    "    customer_id = data[0]\n",
    "    ship_id = data[5]\n",
    "    \n",
    "    if customer_id == last_customer_id:\n",
    "        running_customer_value += row_value\n",
    "        if ship_id == last_ship_id:\n",
    "            ship_streak += 1\n",
    "        else:\n",
    "            ship_streak = 1\n",
    "    else:\n",
    "        q4_processed.loc[q4_processed_index] = [last_customer_id, running_customer_value, ship_streak]\n",
    "        running_customer_value = row_value\n",
    "        ship_streak = 1\n",
    "        q4_processed_index += 1\n",
    "          \n",
    "    #PRESERVE MEMORY OF PREVIOUS ITERATION\n",
    "    last_customer_id = customer_id\n",
    "    last_ship_id = ship_id\n",
    "\n",
    "#Add last shipper after q4 finishes iterating, because row iteration ends too soon\n",
    "q4_processed.loc[q4_processed_index+1] = [last_customer_id, running_customer_value, ship_streak]\n",
    "\n",
    "#Remove useless start row (artifact of iteration process)\n",
    "q4_processed = q4_processed[1:]\n",
    "\n",
    "#Preview DataFrame\n",
    "q4_processed.head()"
   ]
  },
  {
   "cell_type": "code",
   "execution_count": 57,
   "metadata": {},
   "outputs": [
    {
     "data": {
      "text/plain": [
       "3531.95"
      ]
     },
     "execution_count": 57,
     "metadata": {},
     "output_type": "execute_result"
    }
   ],
   "source": [
    "#Check the math to ensure the algorithm calculated value properly\n",
    "test = q4[q4['CustomerId']=='WOLZA']\n",
    "sum(test['UnitPrice'] * test['Quantity'] * (1-test['Discount']))"
   ]
  },
  {
   "cell_type": "code",
   "execution_count": 58,
   "metadata": {},
   "outputs": [],
   "source": [
    "#Separate DataFrame into shippers with and without streaks of using the same shipper 5x\n",
    "q4_processed_streak = list(q4_processed[q4_processed['ShippingStreak']>=5]['CustomerValue'])"
   ]
  },
  {
   "cell_type": "code",
   "execution_count": 59,
   "metadata": {},
   "outputs": [],
   "source": [
    "q4_processed_nostreak = list(q4_processed[q4_processed['ShippingStreak']<5]['CustomerValue'])"
   ]
  },
  {
   "cell_type": "code",
   "execution_count": 70,
   "metadata": {},
   "outputs": [
    {
     "data": {
      "text/plain": [
       "24"
      ]
     },
     "execution_count": 70,
     "metadata": {},
     "output_type": "execute_result"
    }
   ],
   "source": [
    "len(q4_processed_streak)"
   ]
  },
  {
   "cell_type": "code",
   "execution_count": 71,
   "metadata": {},
   "outputs": [
    {
     "data": {
      "text/plain": [
       "61"
      ]
     },
     "execution_count": 71,
     "metadata": {},
     "output_type": "execute_result"
    }
   ],
   "source": [
    "len(q4_processed_nostreak)"
   ]
  },
  {
   "cell_type": "code",
   "execution_count": 61,
   "metadata": {},
   "outputs": [
    {
     "data": {
      "image/png": "[encoded data removed]",
      "text/plain": [
       "<Figure size 432x288 with 1 Axes>"
      ]
     },
     "metadata": {
      "needs_background": "light"
     },
     "output_type": "display_data"
    }
   ],
   "source": [
    "plt.hist(q4_processed_streak, alpha=0.5, label='Shipping Streak', bins=25)\n",
    "plt.hist(q4_processed_nostreak, alpha=0.5, label='No Shipping Streak', bins=25)\n",
    "plt.legend()\n",
    "plt.xlabel('Customer Value')\n",
    "plt.ylabel('Frequency')\n",
    "plt.show()"
   ]
  },
  {
   "cell_type": "code",
   "execution_count": 62,
   "metadata": {},
   "outputs": [
    {
     "name": "stdout",
     "output_type": "stream",
     "text": [
      "0.09273245000580074\n"
     ]
    }
   ],
   "source": [
    "q4_result = stats.ttest_ind(q4_processed_streak, q4_processed_nostreak, equal_var = False)\n",
    "print(q4_result.pvalue)"
   ]
  },
  {
   "cell_type": "markdown",
   "metadata": {},
   "source": [
    "Comparing the resulting p-value of 0.09273245000580074 to our 𝛼 of 0.05, we find that **whether a customer has a streak of selecting the same shipper 5 times in a row does not have a statistically significant relationship with that customer's lifetime dollar value**. "
   ]
  }
 ],
 "metadata": {
  "kernelspec": {
   "display_name": "Python 3",
   "language": "python",
   "name": "python3"
  },
  "language_info": {
   "codemirror_mode": {
    "name": "ipython",
    "version": 3
   },
   "file_extension": ".py",
   "mimetype": "text/x-python",
   "name": "python",
   "nbconvert_exporter": "python",
   "pygments_lexer": "ipython3",
   "version": "3.6.6"
  }
 },
 "nbformat": 4,
 "nbformat_minor": 2
}
