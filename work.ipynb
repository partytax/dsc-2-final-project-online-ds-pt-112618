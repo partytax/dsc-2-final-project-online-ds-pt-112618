{
 "cells": [
  {
   "cell_type": "markdown",
   "metadata": {},
   "source": [
    "## Exploring the Northwind database"
   ]
  },
  {
   "cell_type": "code",
   "execution_count": 3,
   "metadata": {},
   "outputs": [],
   "source": [
    "import sqlite3"
   ]
  },
  {
   "cell_type": "code",
   "execution_count": 4,
   "metadata": {},
   "outputs": [],
   "source": [
    "#instantiate connection and cursor\n",
    "con = sqlite3.connect('Northwind_small.sqlite')\n",
    "c = con.cursor()"
   ]
  },
  {
   "cell_type": "markdown",
   "metadata": {},
   "source": [
    "## Question 1: Do discounts have a statistically significant effect on the number of products customers order? If so, at what level(s) of discount?"
   ]
  },
  {
   "cell_type": "markdown",
   "metadata": {},
   "source": [
    "### Question 1.1: Do discounts have a statistically significant effect on the number of products customers order? "
   ]
  },
  {
   "cell_type": "markdown",
   "metadata": {},
   "source": [
    "First, we will list all of the tables in the database to see which ones are relevant to the question."
   ]
  },
  {
   "cell_type": "code",
   "execution_count": 5,
   "metadata": {},
   "outputs": [
    {
     "data": {
      "text/plain": [
       "[('Employee',),\n",
       " ('Category',),\n",
       " ('Customer',),\n",
       " ('Shipper',),\n",
       " ('Supplier',),\n",
       " ('Order',),\n",
       " ('Product',),\n",
       " ('OrderDetail',),\n",
       " ('CustomerCustomerDemo',),\n",
       " ('CustomerDemographic',),\n",
       " ('Region',),\n",
       " ('Territory',),\n",
       " ('EmployeeTerritory',)]"
      ]
     },
     "execution_count": 5,
     "metadata": {},
     "output_type": "execute_result"
    }
   ],
   "source": [
    "c.execute('''SELECT name FROM sqlite_master WHERE type='table';''').fetchall()"
   ]
  },
  {
   "cell_type": "markdown",
   "metadata": {},
   "source": [
    "It seems like only four are relevant:\n",
    "* Products\n",
    "* Order Details\n",
    "* Orders\n",
    "* Customers"
   ]
  },
  {
   "cell_type": "markdown",
   "metadata": {},
   "source": [
    "Before we dig into the data, we should define our null and alternative hypothesis.\n",
    "\n",
    "**H<sub>0</sub>:** μ<sub>non</sub> = μ<sub>dis</sub>\n",
    "\n",
    "**H<sub>1</sub>:** μ<sub>non</sub> ≠ μ<sub>dis</sub>\n",
    "\n",
    "**$\\alpha$:** 0.05\n",
    "\n",
    "**μ<sub>non</sub>:** mean # of products in non-discounted order\n",
    "\n",
    "**μ<sub>dis</sub>:** mean # of products in discounted order\n",
    "\n",
    "**n**: ???\n"
   ]
  },
  {
   "cell_type": "code",
   "execution_count": 6,
   "metadata": {},
   "outputs": [],
   "source": [
    "#We will load the 'Order' table to get some example data\n",
    "import pandas as pd\n",
    "q1 = pd.DataFrame(c.execute('''SELECT * FROM [Order]''').fetchall())\n",
    "\n",
    "#Copy column names from SQL database to Pandas DataFrame\n",
    "q1.columns = [d[0] for d in c.description]"
   ]
  },
  {
   "cell_type": "code",
   "execution_count": 7,
   "metadata": {},
   "outputs": [
    {
     "data": {
      "text/html": [
       "<div>\n",
       "<style scoped>\n",
       "    .dataframe tbody tr th:only-of-type {\n",
       "        vertical-align: middle;\n",
       "    }\n",
       "\n",
       "    .dataframe tbody tr th {\n",
       "        vertical-align: top;\n",
       "    }\n",
       "\n",
       "    .dataframe thead th {\n",
       "        text-align: right;\n",
       "    }\n",
       "</style>\n",
       "<table border=\"1\" class=\"dataframe\">\n",
       "  <thead>\n",
       "    <tr style=\"text-align: right;\">\n",
       "      <th></th>\n",
       "      <th>Id</th>\n",
       "      <th>CustomerId</th>\n",
       "      <th>EmployeeId</th>\n",
       "      <th>OrderDate</th>\n",
       "      <th>RequiredDate</th>\n",
       "      <th>ShippedDate</th>\n",
       "      <th>ShipVia</th>\n",
       "      <th>Freight</th>\n",
       "      <th>ShipName</th>\n",
       "      <th>ShipAddress</th>\n",
       "      <th>ShipCity</th>\n",
       "      <th>ShipRegion</th>\n",
       "      <th>ShipPostalCode</th>\n",
       "      <th>ShipCountry</th>\n",
       "    </tr>\n",
       "  </thead>\n",
       "  <tbody>\n",
       "    <tr>\n",
       "      <th>0</th>\n",
       "      <td>10248</td>\n",
       "      <td>VINET</td>\n",
       "      <td>5</td>\n",
       "      <td>2012-07-04</td>\n",
       "      <td>2012-08-01</td>\n",
       "      <td>2012-07-16</td>\n",
       "      <td>3</td>\n",
       "      <td>32.38</td>\n",
       "      <td>Vins et alcools Chevalier</td>\n",
       "      <td>59 rue de l'Abbaye</td>\n",
       "      <td>Reims</td>\n",
       "      <td>Western Europe</td>\n",
       "      <td>51100</td>\n",
       "      <td>France</td>\n",
       "    </tr>\n",
       "    <tr>\n",
       "      <th>1</th>\n",
       "      <td>10249</td>\n",
       "      <td>TOMSP</td>\n",
       "      <td>6</td>\n",
       "      <td>2012-07-05</td>\n",
       "      <td>2012-08-16</td>\n",
       "      <td>2012-07-10</td>\n",
       "      <td>1</td>\n",
       "      <td>11.61</td>\n",
       "      <td>Toms Spezialitäten</td>\n",
       "      <td>Luisenstr. 48</td>\n",
       "      <td>Münster</td>\n",
       "      <td>Western Europe</td>\n",
       "      <td>44087</td>\n",
       "      <td>Germany</td>\n",
       "    </tr>\n",
       "    <tr>\n",
       "      <th>2</th>\n",
       "      <td>10250</td>\n",
       "      <td>HANAR</td>\n",
       "      <td>4</td>\n",
       "      <td>2012-07-08</td>\n",
       "      <td>2012-08-05</td>\n",
       "      <td>2012-07-12</td>\n",
       "      <td>2</td>\n",
       "      <td>65.83</td>\n",
       "      <td>Hanari Carnes</td>\n",
       "      <td>Rua do Paço, 67</td>\n",
       "      <td>Rio de Janeiro</td>\n",
       "      <td>South America</td>\n",
       "      <td>05454-876</td>\n",
       "      <td>Brazil</td>\n",
       "    </tr>\n",
       "    <tr>\n",
       "      <th>3</th>\n",
       "      <td>10251</td>\n",
       "      <td>VICTE</td>\n",
       "      <td>3</td>\n",
       "      <td>2012-07-08</td>\n",
       "      <td>2012-08-05</td>\n",
       "      <td>2012-07-15</td>\n",
       "      <td>1</td>\n",
       "      <td>41.34</td>\n",
       "      <td>Victuailles en stock</td>\n",
       "      <td>2, rue du Commerce</td>\n",
       "      <td>Lyon</td>\n",
       "      <td>Western Europe</td>\n",
       "      <td>69004</td>\n",
       "      <td>France</td>\n",
       "    </tr>\n",
       "    <tr>\n",
       "      <th>4</th>\n",
       "      <td>10252</td>\n",
       "      <td>SUPRD</td>\n",
       "      <td>4</td>\n",
       "      <td>2012-07-09</td>\n",
       "      <td>2012-08-06</td>\n",
       "      <td>2012-07-11</td>\n",
       "      <td>2</td>\n",
       "      <td>51.30</td>\n",
       "      <td>Suprêmes délices</td>\n",
       "      <td>Boulevard Tirou, 255</td>\n",
       "      <td>Charleroi</td>\n",
       "      <td>Western Europe</td>\n",
       "      <td>B-6000</td>\n",
       "      <td>Belgium</td>\n",
       "    </tr>\n",
       "  </tbody>\n",
       "</table>\n",
       "</div>"
      ],
      "text/plain": [
       "      Id CustomerId  EmployeeId   OrderDate RequiredDate ShippedDate  ShipVia  \\\n",
       "0  10248      VINET           5  2012-07-04   2012-08-01  2012-07-16        3   \n",
       "1  10249      TOMSP           6  2012-07-05   2012-08-16  2012-07-10        1   \n",
       "2  10250      HANAR           4  2012-07-08   2012-08-05  2012-07-12        2   \n",
       "3  10251      VICTE           3  2012-07-08   2012-08-05  2012-07-15        1   \n",
       "4  10252      SUPRD           4  2012-07-09   2012-08-06  2012-07-11        2   \n",
       "\n",
       "   Freight                   ShipName           ShipAddress        ShipCity  \\\n",
       "0    32.38  Vins et alcools Chevalier    59 rue de l'Abbaye           Reims   \n",
       "1    11.61         Toms Spezialitäten         Luisenstr. 48         Münster   \n",
       "2    65.83              Hanari Carnes       Rua do Paço, 67  Rio de Janeiro   \n",
       "3    41.34       Victuailles en stock    2, rue du Commerce            Lyon   \n",
       "4    51.30           Suprêmes délices  Boulevard Tirou, 255       Charleroi   \n",
       "\n",
       "       ShipRegion ShipPostalCode ShipCountry  \n",
       "0  Western Europe          51100      France  \n",
       "1  Western Europe          44087     Germany  \n",
       "2   South America      05454-876      Brazil  \n",
       "3  Western Europe          69004      France  \n",
       "4  Western Europe         B-6000     Belgium  "
      ]
     },
     "execution_count": 7,
     "metadata": {},
     "output_type": "execute_result"
    }
   ],
   "source": [
    "q1.head()"
   ]
  },
  {
   "cell_type": "markdown",
   "metadata": {},
   "source": [
    "The orders table is now in a usable condition, but we will need to join it with 'Order Details' to get the discount information. We will take a look at that table now."
   ]
  },
  {
   "cell_type": "code",
   "execution_count": 8,
   "metadata": {},
   "outputs": [],
   "source": [
    "#To make fetching and displaying arbitrary tables from our database easier, \n",
    "#we will define a function\n",
    "def table_fetcher(table_name, limit=0):\n",
    "    query = f'''SELECT * FROM {table_name}'''\n",
    "    df = pd.DataFrame(c.execute(query).fetchall())\n",
    "    df.columns = [d[0] for d in c.description]\n",
    "    #return entire dataframe if zero is entered as the limit\n",
    "    if limit == 0:\n",
    "        return df\n",
    "    #otherwise, return the number of lines specified\n",
    "    else:\n",
    "        return df.head(limit)"
   ]
  },
  {
   "cell_type": "code",
   "execution_count": 9,
   "metadata": {},
   "outputs": [
    {
     "data": {
      "text/html": [
       "<div>\n",
       "<style scoped>\n",
       "    .dataframe tbody tr th:only-of-type {\n",
       "        vertical-align: middle;\n",
       "    }\n",
       "\n",
       "    .dataframe tbody tr th {\n",
       "        vertical-align: top;\n",
       "    }\n",
       "\n",
       "    .dataframe thead th {\n",
       "        text-align: right;\n",
       "    }\n",
       "</style>\n",
       "<table border=\"1\" class=\"dataframe\">\n",
       "  <thead>\n",
       "    <tr style=\"text-align: right;\">\n",
       "      <th></th>\n",
       "      <th>Id</th>\n",
       "      <th>OrderId</th>\n",
       "      <th>ProductId</th>\n",
       "      <th>UnitPrice</th>\n",
       "      <th>Quantity</th>\n",
       "      <th>Discount</th>\n",
       "    </tr>\n",
       "  </thead>\n",
       "  <tbody>\n",
       "    <tr>\n",
       "      <th>0</th>\n",
       "      <td>10248/11</td>\n",
       "      <td>10248</td>\n",
       "      <td>11</td>\n",
       "      <td>14.0</td>\n",
       "      <td>12</td>\n",
       "      <td>0.00</td>\n",
       "    </tr>\n",
       "    <tr>\n",
       "      <th>1</th>\n",
       "      <td>10248/42</td>\n",
       "      <td>10248</td>\n",
       "      <td>42</td>\n",
       "      <td>9.8</td>\n",
       "      <td>10</td>\n",
       "      <td>0.00</td>\n",
       "    </tr>\n",
       "    <tr>\n",
       "      <th>2</th>\n",
       "      <td>10248/72</td>\n",
       "      <td>10248</td>\n",
       "      <td>72</td>\n",
       "      <td>34.8</td>\n",
       "      <td>5</td>\n",
       "      <td>0.00</td>\n",
       "    </tr>\n",
       "    <tr>\n",
       "      <th>3</th>\n",
       "      <td>10249/14</td>\n",
       "      <td>10249</td>\n",
       "      <td>14</td>\n",
       "      <td>18.6</td>\n",
       "      <td>9</td>\n",
       "      <td>0.00</td>\n",
       "    </tr>\n",
       "    <tr>\n",
       "      <th>4</th>\n",
       "      <td>10249/51</td>\n",
       "      <td>10249</td>\n",
       "      <td>51</td>\n",
       "      <td>42.4</td>\n",
       "      <td>40</td>\n",
       "      <td>0.00</td>\n",
       "    </tr>\n",
       "    <tr>\n",
       "      <th>5</th>\n",
       "      <td>10250/41</td>\n",
       "      <td>10250</td>\n",
       "      <td>41</td>\n",
       "      <td>7.7</td>\n",
       "      <td>10</td>\n",
       "      <td>0.00</td>\n",
       "    </tr>\n",
       "    <tr>\n",
       "      <th>6</th>\n",
       "      <td>10250/51</td>\n",
       "      <td>10250</td>\n",
       "      <td>51</td>\n",
       "      <td>42.4</td>\n",
       "      <td>35</td>\n",
       "      <td>0.15</td>\n",
       "    </tr>\n",
       "    <tr>\n",
       "      <th>7</th>\n",
       "      <td>10250/65</td>\n",
       "      <td>10250</td>\n",
       "      <td>65</td>\n",
       "      <td>16.8</td>\n",
       "      <td>15</td>\n",
       "      <td>0.15</td>\n",
       "    </tr>\n",
       "    <tr>\n",
       "      <th>8</th>\n",
       "      <td>10251/22</td>\n",
       "      <td>10251</td>\n",
       "      <td>22</td>\n",
       "      <td>16.8</td>\n",
       "      <td>6</td>\n",
       "      <td>0.05</td>\n",
       "    </tr>\n",
       "    <tr>\n",
       "      <th>9</th>\n",
       "      <td>10251/57</td>\n",
       "      <td>10251</td>\n",
       "      <td>57</td>\n",
       "      <td>15.6</td>\n",
       "      <td>15</td>\n",
       "      <td>0.05</td>\n",
       "    </tr>\n",
       "  </tbody>\n",
       "</table>\n",
       "</div>"
      ],
      "text/plain": [
       "         Id  OrderId  ProductId  UnitPrice  Quantity  Discount\n",
       "0  10248/11    10248         11       14.0        12      0.00\n",
       "1  10248/42    10248         42        9.8        10      0.00\n",
       "2  10248/72    10248         72       34.8         5      0.00\n",
       "3  10249/14    10249         14       18.6         9      0.00\n",
       "4  10249/51    10249         51       42.4        40      0.00\n",
       "5  10250/41    10250         41        7.7        10      0.00\n",
       "6  10250/51    10250         51       42.4        35      0.15\n",
       "7  10250/65    10250         65       16.8        15      0.15\n",
       "8  10251/22    10251         22       16.8         6      0.05\n",
       "9  10251/57    10251         57       15.6        15      0.05"
      ]
     },
     "execution_count": 9,
     "metadata": {},
     "output_type": "execute_result"
    }
   ],
   "source": [
    "#Here we fetch the 'OrderDetail' table to examine it\n",
    "table_fetcher('OrderDetail', 10)"
   ]
  },
  {
   "cell_type": "markdown",
   "metadata": {},
   "source": [
    "If we take 'number of products customers order' to mean the number of products they buy in a particular order, rather than the entire purchasing history over the time they are a customer, this table may actually have all the info we need. Orders are uniquely identified with 'OrderId', number of products in a given order can be calculated with 'ProductId' and 'Quantity', and total order discount can be calculated by averaging 'Discount' across the entire quantity (or value) of items. "
   ]
  },
  {
   "cell_type": "code",
   "execution_count": 10,
   "metadata": {},
   "outputs": [],
   "source": [
    "#copying table into variable for question 1\n",
    "q1 = table_fetcher('OrderDetail')"
   ]
  },
  {
   "cell_type": "code",
   "execution_count": 11,
   "metadata": {},
   "outputs": [
    {
     "name": "stdout",
     "output_type": "stream",
     "text": [
      "830\n"
     ]
    }
   ],
   "source": [
    "#Get the number of unique orders in the DataFrame\n",
    "print(len(q1['OrderId'].unique()))"
   ]
  },
  {
   "cell_type": "code",
   "execution_count": 12,
   "metadata": {},
   "outputs": [],
   "source": [
    "#Sort the DataFrame by 'OrderId' to make iterating through the data easier\n",
    "q1.sort_values('OrderId', inplace=True)"
   ]
  },
  {
   "cell_type": "code",
   "execution_count": 13,
   "metadata": {},
   "outputs": [
    {
     "data": {
      "text/html": [
       "<div>\n",
       "<style scoped>\n",
       "    .dataframe tbody tr th:only-of-type {\n",
       "        vertical-align: middle;\n",
       "    }\n",
       "\n",
       "    .dataframe tbody tr th {\n",
       "        vertical-align: top;\n",
       "    }\n",
       "\n",
       "    .dataframe thead th {\n",
       "        text-align: right;\n",
       "    }\n",
       "</style>\n",
       "<table border=\"1\" class=\"dataframe\">\n",
       "  <thead>\n",
       "    <tr style=\"text-align: right;\">\n",
       "      <th></th>\n",
       "      <th>order_id</th>\n",
       "      <th>total_quantity</th>\n",
       "      <th>free_products</th>\n",
       "      <th>total_value</th>\n",
       "      <th>dollars_off</th>\n",
       "    </tr>\n",
       "  </thead>\n",
       "  <tbody>\n",
       "    <tr>\n",
       "      <th>0</th>\n",
       "      <td>10248.0</td>\n",
       "      <td>27.0</td>\n",
       "      <td>0.00</td>\n",
       "      <td>440.0</td>\n",
       "      <td>0.00</td>\n",
       "    </tr>\n",
       "    <tr>\n",
       "      <th>1</th>\n",
       "      <td>10249.0</td>\n",
       "      <td>49.0</td>\n",
       "      <td>0.00</td>\n",
       "      <td>1863.4</td>\n",
       "      <td>0.00</td>\n",
       "    </tr>\n",
       "    <tr>\n",
       "      <th>2</th>\n",
       "      <td>10250.0</td>\n",
       "      <td>60.0</td>\n",
       "      <td>7.50</td>\n",
       "      <td>1813.0</td>\n",
       "      <td>260.40</td>\n",
       "    </tr>\n",
       "    <tr>\n",
       "      <th>3</th>\n",
       "      <td>10251.0</td>\n",
       "      <td>41.0</td>\n",
       "      <td>1.05</td>\n",
       "      <td>670.8</td>\n",
       "      <td>16.74</td>\n",
       "    </tr>\n",
       "    <tr>\n",
       "      <th>4</th>\n",
       "      <td>10252.0</td>\n",
       "      <td>105.0</td>\n",
       "      <td>3.25</td>\n",
       "      <td>3730.0</td>\n",
       "      <td>132.10</td>\n",
       "    </tr>\n",
       "  </tbody>\n",
       "</table>\n",
       "</div>"
      ],
      "text/plain": [
       "   order_id  total_quantity  free_products  total_value  dollars_off\n",
       "0   10248.0            27.0           0.00        440.0         0.00\n",
       "1   10249.0            49.0           0.00       1863.4         0.00\n",
       "2   10250.0            60.0           7.50       1813.0       260.40\n",
       "3   10251.0            41.0           1.05        670.8        16.74\n",
       "4   10252.0           105.0           3.25       3730.0       132.10"
      ]
     },
     "execution_count": 13,
     "metadata": {},
     "output_type": "execute_result"
    }
   ],
   "source": [
    "#Set last_order_id to something that is very unlikely to ever be an order ID\n",
    "last_order_id = -1\n",
    "\n",
    "#Set current index for the new DataFrame so it starts at index 0 when 1 is added\n",
    "#on the condition of encountering a new row in the old DataFrame\n",
    "q1_processed_index = -1\n",
    "\n",
    "#Create new DataFrame with relevant columns\n",
    "q1_processed = pd.DataFrame(columns=['order_id', 'total_quantity', 'free_products', 'total_value', 'dollars_off'])\n",
    "#Iterate through rows in old dataframe\n",
    "for index, data in q1.iterrows():\n",
    "    #Extract data from each row into variables\n",
    "    order_id = int(data[1])\n",
    "    total_quantity = int(data[4])\n",
    "    price = data[3]\n",
    "    discount = data[5]\n",
    "    #Calculate total value of products in row\n",
    "    total_value = float(total_quantity * price)\n",
    "    #Calculate number of dollars off for row by multiplying total value by discount\n",
    "    dollars_off = float(discount * total_value)\n",
    "    #Calculate number of free products for row by multiplying number of products by discount\n",
    "    free_products = float(discount * total_quantity)\n",
    "    #Check if row contains the same order id as the previous one\n",
    "    if data[1] != last_order_id:\n",
    "        #If so, add 1 to the new DataFrame index variable\n",
    "        q1_processed_index += 1\n",
    "        #Take all the calculated values and place them in the new DataFrame row\n",
    "        q1_processed.loc[q1_processed_index] = [order_id, total_quantity, free_products, total_value, dollars_off] \n",
    "    else: \n",
    "        #Otherwise, add the new values to the existing values for that order id\n",
    "        new_total_quantity = total_quantity + q1_processed.loc[q1_processed_index][1]\n",
    "        new_free_products = free_products + q1_processed.loc[q1_processed_index][2]\n",
    "        new_total_value = total_value + q1_processed.loc[q1_processed_index][3]\n",
    "        new_dollars_off = dollars_off + q1_processed.loc[q1_processed_index][4]\n",
    "        q1_processed.loc[q1_processed_index] = [order_id, new_total_quantity, new_free_products, new_total_value, new_dollars_off]\n",
    "    #Update last order id variable so the script knows what order id it processed in the last loop\n",
    "    last_order_id = order_id\n",
    "#Display a sample of results\n",
    "q1_processed.head()"
   ]
  },
  {
   "cell_type": "code",
   "execution_count": 14,
   "metadata": {},
   "outputs": [],
   "source": [
    "#Divide 'dollars_off' by 'total_value' to get the dollar discount rate\n",
    "q1_processed['dollar_discount'] = q1_processed['dollars_off']/q1_processed['total_value']"
   ]
  },
  {
   "cell_type": "code",
   "execution_count": 15,
   "metadata": {},
   "outputs": [],
   "source": [
    "#Divide 'free_products' by 'total_quantity' to get the product discount\n",
    "#(portion of products that were technically free)\n",
    "q1_processed['product_discount'] = q1_processed['free_products']/q1_processed['total_quantity']"
   ]
  },
  {
   "cell_type": "code",
   "execution_count": 16,
   "metadata": {},
   "outputs": [
    {
     "data": {
      "text/html": [
       "<div>\n",
       "<style scoped>\n",
       "    .dataframe tbody tr th:only-of-type {\n",
       "        vertical-align: middle;\n",
       "    }\n",
       "\n",
       "    .dataframe tbody tr th {\n",
       "        vertical-align: top;\n",
       "    }\n",
       "\n",
       "    .dataframe thead th {\n",
       "        text-align: right;\n",
       "    }\n",
       "</style>\n",
       "<table border=\"1\" class=\"dataframe\">\n",
       "  <thead>\n",
       "    <tr style=\"text-align: right;\">\n",
       "      <th></th>\n",
       "      <th>order_id</th>\n",
       "      <th>total_quantity</th>\n",
       "      <th>free_products</th>\n",
       "      <th>total_value</th>\n",
       "      <th>dollars_off</th>\n",
       "      <th>dollar_discount</th>\n",
       "      <th>product_discount</th>\n",
       "    </tr>\n",
       "  </thead>\n",
       "  <tbody>\n",
       "    <tr>\n",
       "      <th>0</th>\n",
       "      <td>10248.0</td>\n",
       "      <td>27.0</td>\n",
       "      <td>0.00</td>\n",
       "      <td>440.0</td>\n",
       "      <td>0.00</td>\n",
       "      <td>0.000000</td>\n",
       "      <td>0.000000</td>\n",
       "    </tr>\n",
       "    <tr>\n",
       "      <th>1</th>\n",
       "      <td>10249.0</td>\n",
       "      <td>49.0</td>\n",
       "      <td>0.00</td>\n",
       "      <td>1863.4</td>\n",
       "      <td>0.00</td>\n",
       "      <td>0.000000</td>\n",
       "      <td>0.000000</td>\n",
       "    </tr>\n",
       "    <tr>\n",
       "      <th>2</th>\n",
       "      <td>10250.0</td>\n",
       "      <td>60.0</td>\n",
       "      <td>7.50</td>\n",
       "      <td>1813.0</td>\n",
       "      <td>260.40</td>\n",
       "      <td>0.143629</td>\n",
       "      <td>0.125000</td>\n",
       "    </tr>\n",
       "    <tr>\n",
       "      <th>3</th>\n",
       "      <td>10251.0</td>\n",
       "      <td>41.0</td>\n",
       "      <td>1.05</td>\n",
       "      <td>670.8</td>\n",
       "      <td>16.74</td>\n",
       "      <td>0.024955</td>\n",
       "      <td>0.025610</td>\n",
       "    </tr>\n",
       "    <tr>\n",
       "      <th>4</th>\n",
       "      <td>10252.0</td>\n",
       "      <td>105.0</td>\n",
       "      <td>3.25</td>\n",
       "      <td>3730.0</td>\n",
       "      <td>132.10</td>\n",
       "      <td>0.035416</td>\n",
       "      <td>0.030952</td>\n",
       "    </tr>\n",
       "  </tbody>\n",
       "</table>\n",
       "</div>"
      ],
      "text/plain": [
       "   order_id  total_quantity  free_products  total_value  dollars_off  \\\n",
       "0   10248.0            27.0           0.00        440.0         0.00   \n",
       "1   10249.0            49.0           0.00       1863.4         0.00   \n",
       "2   10250.0            60.0           7.50       1813.0       260.40   \n",
       "3   10251.0            41.0           1.05        670.8        16.74   \n",
       "4   10252.0           105.0           3.25       3730.0       132.10   \n",
       "\n",
       "   dollar_discount  product_discount  \n",
       "0         0.000000          0.000000  \n",
       "1         0.000000          0.000000  \n",
       "2         0.143629          0.125000  \n",
       "3         0.024955          0.025610  \n",
       "4         0.035416          0.030952  "
      ]
     },
     "execution_count": 16,
     "metadata": {},
     "output_type": "execute_result"
    }
   ],
   "source": [
    "q1_processed.head()"
   ]
  },
  {
   "cell_type": "code",
   "execution_count": 17,
   "metadata": {},
   "outputs": [
    {
     "data": {
      "text/plain": [
       "<Figure size 640x480 with 1 Axes>"
      ]
     },
     "metadata": {},
     "output_type": "display_data"
    }
   ],
   "source": [
    "#Import pyplot and create a scatter plot of the relationship\n",
    "#between 'dollar_discount' and 'product_discount'\n",
    "import matplotlib.pyplot as plt\n",
    "plt.scatter(q1_processed['dollar_discount'], q1_processed['product_discount'])\n",
    "plt.title('dollar_discount versus product_discount')\n",
    "plt.xlabel('dollar_discount')\n",
    "plt.ylabel('product_discount')\n",
    "plt.show()"
   ]
  },
  {
   "cell_type": "markdown",
   "metadata": {},
   "source": [
    "I'm not sure which of these metrics of 'discountedness' is more useful, but to answer this question, we only need to compare the distributions of discounted and non-discounted orders."
   ]
  },
  {
   "cell_type": "code",
   "execution_count": 18,
   "metadata": {},
   "outputs": [],
   "source": [
    "#Create separate dataframes with discounted and non-discounted orders\n",
    "q1_orders_with_discount = q1_processed.loc[q1_processed['dollar_discount']>0, ['total_quantity']]\n",
    "q1_orders_without_discount = q1_processed.loc[q1_processed['dollar_discount']==0, ['total_quantity']]"
   ]
  },
  {
   "cell_type": "code",
   "execution_count": 19,
   "metadata": {
    "scrolled": true
   },
   "outputs": [
    {
     "data": {
      "image/png": "[encoded data removed]",
      "text/plain": [
       "<Figure size 432x288 with 1 Axes>"
      ]
     },
     "metadata": {
      "needs_background": "light"
     },
     "output_type": "display_data"
    }
   ],
   "source": [
    "#Plot overlapping histograms of the two populations\n",
    "plt.hist(q1_orders_with_discount.values, alpha=0.5, label='Discount', bins=25)\n",
    "plt.hist(q1_orders_without_discount.values, alpha=0.5, label='No Discount', bins=25)\n",
    "plt.legend()\n",
    "plt.xlabel('# of Products in Order')\n",
    "plt.ylabel('Frequency')\n",
    "plt.show()"
   ]
  },
  {
   "cell_type": "markdown",
   "metadata": {},
   "source": [
    "It looks like orders with and without discounts have noticeably different distributions. We will go on to examine these distributions statistically to define the relationship between discount and number of products. To be safe, we will use a **two-tailed T-test**."
   ]
  },
  {
   "cell_type": "code",
   "execution_count": 20,
   "metadata": {},
   "outputs": [],
   "source": [
    "#Import statistical packages\n",
    "import numpy as np\n",
    "import math\n",
    "from scipy import stats"
   ]
  },
  {
   "cell_type": "code",
   "execution_count": 21,
   "metadata": {},
   "outputs": [
    {
     "name": "stdout",
     "output_type": "stream",
     "text": [
      "non: 450 \n",
      "dis: 380\n"
     ]
    }
   ],
   "source": [
    "print(f'non: {len(q1_orders_without_discount)} \\ndis: {len(q1_orders_with_discount)}')"
   ]
  },
  {
   "cell_type": "code",
   "execution_count": 22,
   "metadata": {},
   "outputs": [
    {
     "name": "stdout",
     "output_type": "stream",
     "text": [
      "t-statistic: -5.886184782446325\n",
      "p-value: 5.850677815891118e-09\n"
     ]
    }
   ],
   "source": [
    "#Use the scipy stats T-test function to find our p-value\n",
    "q1_result = stats.ttest_ind(q1_orders_without_discount, q1_orders_with_discount, equal_var = False)\n",
    "print(f't-statistic: {q1_result.statistic[0]}\\np-value: {q1_result.pvalue[0]}')"
   ]
  },
  {
   "cell_type": "markdown",
   "metadata": {},
   "source": [
    "Comparing the resulting p-value of 5.85 * 10<sup>-9</sup> to our $\\alpha$ of 0.05, we find that overall, **discounts do have a statistically significant effect on the number of products customers order**. Customers buy more when there is a discount. Now we will examine what levels of discount, if any, do not have a statistically significant effect on products ordered."
   ]
  },
  {
   "cell_type": "markdown",
   "metadata": {},
   "source": [
    "### If [discounts have statistically significant effect on # of products ordered], at what level(s) of discount?"
   ]
  },
  {
   "cell_type": "markdown",
   "metadata": {},
   "source": [
    "Since we know that, overall, discounts do have an effect on # of products sold, we now need to find out what specific levels of discount have an effect."
   ]
  },
  {
   "cell_type": "code",
   "execution_count": 23,
   "metadata": {},
   "outputs": [],
   "source": [
    "#Extract all the levels of discount in the discount DataFrame\n",
    "discount_distribution = q1_processed.loc[q1_processed['dollar_discount']>0, ['dollar_discount']]"
   ]
  },
  {
   "cell_type": "code",
   "execution_count": 24,
   "metadata": {},
   "outputs": [
    {
     "data": {
      "image/png": "[encoded data removed]",
      "text/plain": [
       "<Figure size 432x288 with 1 Axes>"
      ]
     },
     "metadata": {
      "needs_background": "light"
     },
     "output_type": "display_data"
    }
   ],
   "source": [
    "#Plot histogram of discount rates\n",
    "discount_distribution.hist(bins=50)\n",
    "plt.show()"
   ]
  },
  {
   "cell_type": "markdown",
   "metadata": {},
   "source": [
    "It looks like there are spikes in the discount distribution about every 0.05, probably because these were popular levels of discount. I imagine that the values in between are from averaging the discounts of different products in an order.\n",
    "\n",
    "\n",
    "\n",
    "PROBABLY NEED TO USE ANOVA HERE"
   ]
  },
  {
   "cell_type": "code",
   "execution_count": 25,
   "metadata": {},
   "outputs": [],
   "source": [
    "#Import important packages for ANOVA\n",
    "import statsmodels.api as sm\n",
    "from statsmodels.formula.api import ols"
   ]
  },
  {
   "cell_type": "code",
   "execution_count": 26,
   "metadata": {},
   "outputs": [],
   "source": [
    "mod = ols('total_quantity ~ dollar_discount', data=q1_processed).fit()"
   ]
  },
  {
   "cell_type": "code",
   "execution_count": 27,
   "metadata": {},
   "outputs": [],
   "source": [
    "anova_table = sm.stats.anova_lm(mod, typ=2)"
   ]
  },
  {
   "cell_type": "code",
   "execution_count": 28,
   "metadata": {},
   "outputs": [
    {
     "name": "stdout",
     "output_type": "stream",
     "text": [
      "                       sum_sq     df          F        PR(>F)\n",
      "dollar_discount  6.542171e+04    1.0  26.174187  3.879254e-07\n",
      "Residual         2.069565e+06  828.0        NaN           NaN\n"
     ]
    }
   ],
   "source": [
    "print(anova_table)"
   ]
  },
  {
   "cell_type": "markdown",
   "metadata": {},
   "source": [
    "## Question 2: Do orders contain a statistically significant different value of products when the employee responsible for the sale has the same phone area code as the customer?"
   ]
  },
  {
   "cell_type": "markdown",
   "metadata": {},
   "source": [
    "Four tables are relevant to this questions:\n",
    "\n",
    "* Orders\n",
    "* OrderDetail\n",
    "* Customer\n",
    "* Employee"
   ]
  },
  {
   "cell_type": "markdown",
   "metadata": {},
   "source": [
    "Here we define null and alternative hypotheses:\n",
    "\n",
    "**H<sub>0</sub>:** μ<sub>same</sub> = μ<sub>diff</sub>\n",
    "\n",
    "**H<sub>1</sub>:** μ<sub>same</sub> ≠ μ<sub>diff</sub>\n",
    "\n",
    "**$\\alpha$:** 0.05\n",
    "\n",
    "**μ<sub>same</sub>:** mean value of orders where customer/employee pairs had same phone area code\n",
    "\n",
    "**μ<sub>diff</sub>:** mean value of orders where customer/employee pairs had different phone area code\n",
    "\n",
    "**n<sub>same</sub>**: 12\n",
    "\n",
    "**n<sub>diff</sub>**: 789\n"
   ]
  },
  {
   "cell_type": "code",
   "execution_count": 119,
   "metadata": {},
   "outputs": [],
   "source": [
    "file = open('q2_matching-area-codes.db','r')\n",
    "matching_area_codes = file.read()\n",
    "file.close()"
   ]
  },
  {
   "cell_type": "code",
   "execution_count": 120,
   "metadata": {},
   "outputs": [],
   "source": [
    "matching_results = c.execute(matching_area_codes).fetchall()"
   ]
  },
  {
   "cell_type": "code",
   "execution_count": 124,
   "metadata": {},
   "outputs": [],
   "source": [
    "file = open('q2_nonmatching-area-codes.db', 'r')\n",
    "nonmatching_area_codes = file.read()\n",
    "file.close()"
   ]
  },
  {
   "cell_type": "code",
   "execution_count": 125,
   "metadata": {},
   "outputs": [],
   "source": [
    "nonmatching_results = c.execute(nonmatching_area_codes).fetchall()"
   ]
  },
  {
   "cell_type": "code",
   "execution_count": 123,
   "metadata": {
    "scrolled": false
   },
   "outputs": [
    {
     "data": {
      "text/plain": [
       "[(2296.0,),\n",
       " (956.675,),\n",
       " (1388.5,),\n",
       " (764.3,),\n",
       " (1180.88,),\n",
       " (2071.2,),\n",
       " (996.0,),\n",
       " (468.45,),\n",
       " (1416.0,),\n",
       " (3523.4,),\n",
       " (1924.25,),\n",
       " (8902.5,)]"
      ]
     },
     "execution_count": 123,
     "metadata": {},
     "output_type": "execute_result"
    }
   ],
   "source": [
    "#Check results\n",
    "matching_results"
   ]
  },
  {
   "cell_type": "markdown",
   "metadata": {},
   "source": [
    "The returned list seems to contain tuples with our number inside. We will write a de-tupling function to extract the value."
   ]
  },
  {
   "cell_type": "code",
   "execution_count": 128,
   "metadata": {},
   "outputs": [],
   "source": [
    "def detupler(list):\n",
    "    return [x[0] for x in list]"
   ]
  },
  {
   "cell_type": "code",
   "execution_count": 129,
   "metadata": {},
   "outputs": [],
   "source": [
    "matching_results_cleaned = detupler(matching_results)"
   ]
  },
  {
   "cell_type": "code",
   "execution_count": 130,
   "metadata": {},
   "outputs": [],
   "source": [
    "nonmatching_results_cleaned = detupler(nonmatching_results)"
   ]
  },
  {
   "cell_type": "code",
   "execution_count": 131,
   "metadata": {},
   "outputs": [
    {
     "data": {
      "image/png": "[encoded data removed]",
      "text/plain": [
       "<Figure size 432x288 with 1 Axes>"
      ]
     },
     "metadata": {
      "needs_background": "light"
     },
     "output_type": "display_data"
    }
   ],
   "source": [
    "'''\n",
    "Plot distributions of order value for customer/employee\n",
    "pairs with matching and nonmatching area codes\n",
    "'''\n",
    "plt.hist(matching_results_cleaned, alpha=0.5, label='Matching Area Codes', bins=25)\n",
    "plt.hist(nonmatching_results_cleaned, alpha=0.5, label='Non-matching Area Codes', bins=25)\n",
    "plt.legend()\n",
    "plt.xlabel('Order Value')\n",
    "plt.ylabel('Frequency')\n",
    "plt.show()"
   ]
  },
  {
   "cell_type": "code",
   "execution_count": 132,
   "metadata": {},
   "outputs": [
    {
     "data": {
      "image/png": "[encoded data removed]",
      "text/plain": [
       "<Figure size 432x288 with 1 Axes>"
      ]
     },
     "metadata": {
      "needs_background": "light"
     },
     "output_type": "display_data"
    }
   ],
   "source": [
    "#Re-plot with log scale y axis\n",
    "plt.hist(matching_results_cleaned, alpha=0.5, label='Matching Area Codes', bins=25)\n",
    "plt.hist(nonmatching_results_cleaned, alpha=0.5, label='Non-matching Area Codes', bins=25)\n",
    "plt.legend()\n",
    "plt.xlabel('Order Value')\n",
    "plt.ylabel('Frequency')\n",
    "plt.yscale('log')\n",
    "plt.show()"
   ]
  },
  {
   "cell_type": "code",
   "execution_count": 133,
   "metadata": {},
   "outputs": [],
   "source": [
    "q2_result = stats.mannwhitneyu(\n",
    "    matching_results_cleaned, nonmatching_results_cleaned, alternative='two-sided'\n",
    ")"
   ]
  },
  {
   "cell_type": "code",
   "execution_count": 134,
   "metadata": {},
   "outputs": [
    {
     "data": {
      "text/plain": [
       "0.08210731477282339"
      ]
     },
     "execution_count": 134,
     "metadata": {},
     "output_type": "execute_result"
    }
   ],
   "source": [
    "q2_result.pvalue"
   ]
  },
  {
   "cell_type": "code",
   "execution_count": null,
   "metadata": {},
   "outputs": [],
   "source": []
  },
  {
   "cell_type": "markdown",
   "metadata": {},
   "source": [
    "## Do products in the top quarter by quantity sold have a statistically significant higher reorder threshold than those in the bottom quarter by quantity sold?"
   ]
  },
  {
   "cell_type": "code",
   "execution_count": null,
   "metadata": {},
   "outputs": [],
   "source": []
  },
  {
   "cell_type": "markdown",
   "metadata": {},
   "source": [
    "## Do customers with streaks of selecting the same shipper 5 or more times in a row have a statistically significant difference in lifetime sales value?"
   ]
  },
  {
   "cell_type": "code",
   "execution_count": null,
   "metadata": {},
   "outputs": [],
   "source": []
  },
  {
   "cell_type": "code",
   "execution_count": null,
   "metadata": {},
   "outputs": [],
   "source": []
  },
  {
   "cell_type": "code",
   "execution_count": null,
   "metadata": {},
   "outputs": [],
   "source": []
  },
  {
   "cell_type": "code",
   "execution_count": null,
   "metadata": {},
   "outputs": [],
   "source": []
  },
  {
   "cell_type": "code",
   "execution_count": 82,
   "metadata": {},
   "outputs": [
    {
     "data": {
      "text/plain": [
       "[(0, 'Id', 'VARCHAR(8000)', 0, None, 1),\n",
       " (1, 'CompanyName', 'VARCHAR(8000)', 0, None, 0),\n",
       " (2, 'ContactName', 'VARCHAR(8000)', 0, None, 0),\n",
       " (3, 'ContactTitle', 'VARCHAR(8000)', 0, None, 0),\n",
       " (4, 'Address', 'VARCHAR(8000)', 0, None, 0),\n",
       " (5, 'City', 'VARCHAR(8000)', 0, None, 0),\n",
       " (6, 'Region', 'VARCHAR(8000)', 0, None, 0),\n",
       " (7, 'PostalCode', 'VARCHAR(8000)', 0, None, 0),\n",
       " (8, 'Country', 'VARCHAR(8000)', 0, None, 0),\n",
       " (9, 'Phone', 'VARCHAR(8000)', 0, None, 0),\n",
       " (10, 'Fax', 'VARCHAR(8000)', 0, None, 0)]"
      ]
     },
     "execution_count": 82,
     "metadata": {},
     "output_type": "execute_result"
    }
   ],
   "source": [
    "c.execute('''\n",
    "pragma table_info(Customer)''').fetchall()"
   ]
  },
  {
   "cell_type": "code",
   "execution_count": null,
   "metadata": {},
   "outputs": [],
   "source": []
  }
 ],
 "metadata": {
  "kernelspec": {
   "display_name": "Python 3",
   "language": "python",
   "name": "python3"
  },
  "language_info": {
   "codemirror_mode": {
    "name": "ipython",
    "version": 3
   },
   "file_extension": ".py",
   "mimetype": "text/x-python",
   "name": "python",
   "nbconvert_exporter": "python",
   "pygments_lexer": "ipython3",
   "version": "3.6.6"
  }
 },
 "nbformat": 4,
 "nbformat_minor": 2
}
